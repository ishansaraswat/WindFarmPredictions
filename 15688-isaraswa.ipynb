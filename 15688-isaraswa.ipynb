{
 "cells": [
  {
   "cell_type": "markdown",
   "metadata": {},
   "source": [
    "# 15-688 Final Project on Analytics & Predictions for Wind Farm Power Output\n",
    "\n",
    "#### Project by: Ishan Saraswat (AndrewID: isaraswa)\n",
    "## Introduction\n",
    "\n",
    "This project is based on data analysis to gain insights and power output prediction for the 'La-Haute-Borne' Wind Farm based in the commune of Vaudeville-le-Haute in north-eastern France. "
   ]
  },
  {
   "cell_type": "markdown",
   "metadata": {},
   "source": [
    "## Project contents\n",
    "\n",
    "- [Motivation: Renewable Energy Sources and the Grid](#Motivation:-Renewable-Energy-Sources-and-the-Grid)\n",
    "- [Wind Power Forecasting](#Wind-Power-Forecasting)\n",
    "- [Extracting the data](#Extracting-the-data)\n",
    "- [Exploratory Data Analysis](#Exploratory-Data-Analysis)\n",
    "- [Predicting the Power Output](#Predicting-the-Power-Output)\n",
    "- [Future Work and Resources](#Future-Work-and-Resources)"
   ]
  },
  {
   "attachments": {},
   "cell_type": "markdown",
   "metadata": {},
   "source": [
    "## Motivation: Renewable Energy Sources and the Grid\n",
    "\n",
    "In order to meet our climate goals, it is essential that we move towards a decarbonised energy sector. Coal and nuclear power plants provide what is called baseload power. What this means is these power plants are capable of producing a steady and predictable power output continuously. Since the electricity demand is not always constant, we need other sources of power which can be ramped up and down based on the demand. The following figure illustrates the nature of dispatchable power in terms of baseload, loadfollowing and peaking power. \n",
    "   \n",
    "[<img src=\"http://www.energypost.eu/wp-content/uploads/2016/03/Diesendorf-figure-1-electriity-demand-with-baseload.png\" width=\"500\">](http://www.energypost.eu/wp-content/uploads/2016/03/Diesendorf-figure-1-electriity-demand-with-baseload.png)\n",
    "\n",
    "### Challenge in integrating renewable sources into the electric grid\n",
    "The power output from renewable sources such as wind and solar is highly variable and unpredictable. We are in a way at the behest of nature when it comes to how much power we can generate from these sources at any given point of time. The following figure shows 5 minute wind power output for a week from Bonneville Power Authority with nameplate capacity 3788 MW and 1 second wind power output for 10 days from a wind farm in Mid Atlantic United States\n",
    "   \n",
    "[<img src=\"https://static.seekingalpha.com/uploads/2016/9/34605935_14750728033629_rId17.png\" width=\"700\" height=\"700\">](https://static.seekingalpha.com/uploads/2016/9/34605935_14750728033629_rId17.png)\n",
    "\n",
    "Grid operators must at all times balance the electricity generation and demand on the grid. This is accomplished by using load-following and peaking power plants to follow the demand as shown in the figure above. However, when a solar or wind plant has to be integrated into the grid, its uncertain power generation must be taken into account and as higher and higher percentage of renewable sources are integrated this uncertainty increases. Thus some amount of reserve capacity in the form of high ramping power plants such as gas peaker plants must be kept on standby to meet the demand \n",
    "   \n",
    "Hence it is essential to have a forecast of the demand as well as the supply from these renewable sources. This can help better manage the integration of these renewable sources into the grid as it allows the grid operators to efficiently allocate generation in the day ahead electricity markets, have a more economically efficient stock of reserve capacity, manage grid frequency fluctuations and reduce system level costs for the electricity produced from the renewable sources. The following figure shows additional day-ahead reserve capacity for maximum wind forecast uncertainty for a range of wind penetration values for ERCOT (Texas) and MISO (MidWest USA) grid regions.(Mauch et al.)\n",
    "\n",
    "[<img src=\"https://s3-eu-west-1.amazonaws.com/ppreviews-iop-487454658/1479339/preview.jpg\" width=\"400\">](https://s3-eu-west-1.amazonaws.com/ppreviews-iop-487454658/1479339/preview.jpg)"
   ]
  },
  {
   "cell_type": "markdown",
   "metadata": {},
   "source": [
    "# Wind Power Forecasting\n",
    "\n",
    "   Wind power forecasting refers to predicting the power output of one or more turbines in the near future (with units of kW or normalized with respect to the wind farm capcity). \n",
    "   \n",
    "### Time scales of forecast\n",
    "\n",
    "   The forecasting of wind power generation may be considered at different time scales, depending on what the intended application of the forecast is. *Very-short term* forecasts may be done on the scale of a few minutes to a few hours. This is mainly used for turbine active control and ancillary services management on the grid such as frequency regulation. *Short-term forecasts* may be done on the scale of 48 to 72 hours. These forecasts are mainly used for energy trading on the day-ahead markets, reserve capacity planning, optimal scheduling of generators (Unit Commitment) and their economic dispatch. *Long-term forecasts* on the scale of up to a week to 10 days ahead may be considered for planning optimal maintainence on the wind turbines. Maintainence of offshore wind turbines is especially costly so optimal planning of operations is important\n",
    "   \n",
    "### Different approaches to wind power forecasting   \n",
    " - Physical Approach: \n",
    "It focuses on the description of the wind flow around and inside the wind farm, in addition to using the manufacturer’s power curve in order to propose an estimation of the wind power output.\n",
    " - Statistical Approach:\n",
    "It consists of emulating the relation between meteorological predictions, historical measurements and generation output through statistical models whose parameters have to be estimated from data, without taking any physical phenomena into account.\n"
   ]
  },
  {
   "cell_type": "markdown",
   "metadata": {},
   "source": [
    "# Extracting the data\n",
    "We will collect wind farm data provided by the French electric utility company ENGIE. It is very hard to find power plant level production data for a wind plant since plant operators do not usually disclose this information as it si of importance to the energy markets. ENGIE has established what they call the first open data wind farm located in north-easter France near the commune of Vaudeville-le-Haute called the 'La-Haute-Borne' wind farm. It has hosted the data for this wind farm on the website: [ENGIE wind farm data](https://opendata-renewables.engie.com/pages/home/)\n",
    "\n",
    "[<img src=\"https://image.ibb.co/mrzYFd/Picture1.png\" width=\"600\">](https://image.ibb.co/mrzYFd/Picture1.png)\n",
    "\n",
    "The site uses a public web api which allows anyone to interface with the website and extract the relevant data. The site contains good documentation of how to utilize the api to exctract data. [Documentation](https://opendata-renewables.engie.com/api/v1/documentation) We will utilize the 'La Haute Borne Data (2013-2016)' dataset which consists of power output and meteorological parameters measured at the wind farm for all four wind turbines for a period of 2013-2016. "
   ]
  },
  {
   "cell_type": "code",
   "execution_count": 1,
   "metadata": {},
   "outputs": [],
   "source": [
    "import numpy as np\n",
    "import pandas as pd\n",
    "import matplotlib.pyplot as plt\n",
    "%matplotlib inline"
   ]
  },
  {
   "cell_type": "code",
   "execution_count": 2,
   "metadata": {},
   "outputs": [],
   "source": [
    "#import io, time, json\n",
    "import requests\n",
    "#import IPython.display as display"
   ]
  },
  {
   "cell_type": "markdown",
   "metadata": {},
   "source": [
    "The api has a search command which can be used to explore and download the datasets. However as we can see on the website this dataset contains more than 800,000 records over the four years 2013-16. While the search command has a limit of returning 10,000 records at a time. However, the api specifies that for an unlimited records search we can use the download query instead of search: <br>\n",
    "`Download`: /api/records/1.0/download/ <br>\n",
    "`Description`:This API provides Records download streaming features. It accepts the same filtering parameters as the Search API but returns a flow of Records as they are generated by the server.\n",
    "We will use the requests library to request the api and parse the stream of text returned by the query using string formatting."
   ]
  },
  {
   "cell_type": "code",
   "execution_count": 3,
   "metadata": {},
   "outputs": [],
   "source": [
    "url = \"https://opendata-renewables.engie.com/api/records/1.0/download/?dataset=la-haute-borne-data-2013-2016&rows=-1&facet=wind_turbine_name&facet=date_time\""
   ]
  },
  {
   "cell_type": "code",
   "execution_count": 4,
   "metadata": {},
   "outputs": [],
   "source": [
    "response = requests.get(url)"
   ]
  },
  {
   "cell_type": "code",
   "execution_count": 22,
   "metadata": {},
   "outputs": [],
   "source": [
    "text = response.text"
   ]
  },
  {
   "cell_type": "code",
   "execution_count": 26,
   "metadata": {},
   "outputs": [],
   "source": [
    "text = text.split('\\r\\n')"
   ]
  },
  {
   "cell_type": "code",
   "execution_count": 27,
   "metadata": {},
   "outputs": [
    {
     "data": {
      "text/plain": [
       "840382"
      ]
     },
     "execution_count": 27,
     "metadata": {},
     "output_type": "execute_result"
    }
   ],
   "source": [
    "len(text)"
   ]
  },
  {
   "cell_type": "markdown",
   "metadata": {},
   "source": [
    "After splitting each record spearated by '\\r\\n' in the returned text string we will load each record as a row in a pandas dataframe"
   ]
  },
  {
   "cell_type": "code",
   "execution_count": 331,
   "metadata": {},
   "outputs": [
    {
     "data": {
      "text/plain": [
       "['R80711;2013-01-06T10:20:00+00:00;-0.75999999;-1.0;0.0;0.40000001;13.78;13.0;14.0;0.34999999;1041.27;960.59998;1157.36;64.559998;1052.1;249.23;1557.42;374.07001;87.900002;0.77999997;159.72;46.110001;75.080002;21.92;109.34;32.619999;124.47;39.889999;183.75;32.650002;0.76999998;1.0;0.029999999;0.28;1039.77;959.04999;1155.9399;64.589996;44.32;43.599998;44.849998;0.23999999;43.43;43.0;43.799999;0.18000001;64.919998;63.400002;66.0;0.47999999;56.849998;56.25;57.450001;0.31;55.709999;54.849998;56.5;0.44999999;49.860001;49.25;50.450001;0.23;50.950001;50.400002;51.200001;0.090000004;278.87;278.87;278.87;0.0;22.59;17.700001;25.299999;2.9200001;4.6599998;2.6600001;6.4699998;0.68000001;4.8600001;3.01;6.5500002;0.69999999;4.7600002;2.8399999;6.4699998;0.67000002;278.01001;205.60001;336.29999;16.93;;;;;;;;;-0.86000001;-73.269997;57.419998;16.93;6.5700002;6.5;6.6999998;0.090000004;49.98;49.959999;50.009998;0.0099999998;700.78003;699.06;702.03003;0.66000003;9.8999996;9.1099997;11.01;0.62;23.700001;23.6;23.799999;0.02;785.60999;7.4899998;1321.53;381.57999;;;;;293.01001;;;;293.87;;;',\n",
       " 'R80711;2013-01-06T06:30:00+00:00;-0.38999999;-1.0;0.07;0.34999999;13.0;13.0;13.0;0.0;971.59003;969.08002;975.69;1.28;661.47998;392.57999;1008.33;130.06;35.970001;9.3400002;72.010002;13.41;12.44;1.8099999;16.209999;2.9000001;38.450001;11.87;73.110001;12.8;1.0;1.0;0.94999999;0.0099999998;970.03003;967.53003;974.15002;1.26;35.91;35.25;36.549999;0.28;34.610001;33.900002;35.299999;0.36000001;53.23;51.549999;54.849998;0.67000002;51.130001;50.900002;51.5;0.1;48.130001;47.900002;48.400002;0.079999998;43.68;43.400002;44.099998;0.07;44.509998;44.200001;44.700001;0.059999999;208.98;203.14;231.67999;11.05;21.549999;21.4;21.700001;0.090000004;4.0599999;3.3299999;5.48;0.31;4.5100002;3.75;5.4400001;0.31;4.29;3.6099999;5.3099999;0.28999999;248.42;179.31;256.29999;10.96;;;;;;;;;16.76;-32.380001;46.200001;13.91;5.6199999;5.5999999;5.8000002;0.050000001;49.990002;49.970001;50.009998;0.0099999998;702.13;700.22998;703.62;0.40000001;9.2299995;9.1899996;9.2700005;0.02;21.25;21.1;21.35;0.079999998;354.07999;91.980003;707.47998;131.89999;;;;;263.41998;;;;223.98;;;']"
      ]
     },
     "execution_count": 331,
     "metadata": {},
     "output_type": "execute_result"
    }
   ],
   "source": [
    "text[0:2]"
   ]
  },
  {
   "cell_type": "code",
   "execution_count": 31,
   "metadata": {},
   "outputs": [],
   "source": [
    "columns = text[0]\n",
    "columns = columns.split(';')\n",
    "del text[0]\n",
    "del text[-1]"
   ]
  },
  {
   "cell_type": "code",
   "execution_count": 37,
   "metadata": {},
   "outputs": [
    {
     "data": {
      "text/plain": [
       "840380"
      ]
     },
     "execution_count": 37,
     "metadata": {},
     "output_type": "execute_result"
    }
   ],
   "source": [
    "len(text)"
   ]
  },
  {
   "cell_type": "code",
   "execution_count": 38,
   "metadata": {},
   "outputs": [
    {
     "data": {
      "text/html": [
       "<div>\n",
       "<style>\n",
       "    .dataframe thead tr:only-child th {\n",
       "        text-align: right;\n",
       "    }\n",
       "\n",
       "    .dataframe thead th {\n",
       "        text-align: left;\n",
       "    }\n",
       "\n",
       "    .dataframe tbody tr th {\n",
       "        vertical-align: top;\n",
       "    }\n",
       "</style>\n",
       "<table border=\"1\" class=\"dataframe\">\n",
       "  <thead>\n",
       "    <tr style=\"text-align: right;\">\n",
       "      <th></th>\n",
       "      <th>wind_turbine_name</th>\n",
       "      <th>date_time</th>\n",
       "      <th>ba_avg</th>\n",
       "      <th>ba_min</th>\n",
       "      <th>ba_max</th>\n",
       "      <th>ba_std</th>\n",
       "      <th>rt_avg</th>\n",
       "      <th>rt_min</th>\n",
       "      <th>rt_max</th>\n",
       "      <th>rt_std</th>\n",
       "      <th>...</th>\n",
       "      <th>pas_max</th>\n",
       "      <th>pas_std</th>\n",
       "      <th>wa_c_avg</th>\n",
       "      <th>wa_c_min</th>\n",
       "      <th>wa_c_max</th>\n",
       "      <th>wa_c_std</th>\n",
       "      <th>na_c_avg</th>\n",
       "      <th>na_c_min</th>\n",
       "      <th>na_c_max</th>\n",
       "      <th>na_c_std</th>\n",
       "    </tr>\n",
       "  </thead>\n",
       "  <tbody>\n",
       "  </tbody>\n",
       "</table>\n",
       "<p>0 rows × 138 columns</p>\n",
       "</div>"
      ],
      "text/plain": [
       "Empty DataFrame\n",
       "Columns: [wind_turbine_name, date_time, ba_avg, ba_min, ba_max, ba_std, rt_avg, rt_min, rt_max, rt_std, dcs_avg, dcs_min, dcs_max, dcs_std, cm_avg, cm_min, cm_max, cm_std, p_avg, p_min, p_max, p_std, q_avg, q_min, q_max, q_std, s_avg, s_min, s_max, s_std, cosphi_avg, cosphi_min, cosphi_max, cosphi_std, ds_avg, ds_min, ds_max, ds_std, db1t_avg, db1t_min, db1t_max, db1t_std, db2t_avg, db2t_min, db2t_max, db2t_std, dst_avg, dst_min, dst_max, dst_std, gb1t_avg, gb1t_min, gb1t_max, gb1t_std, gb2t_avg, gb2t_min, gb2t_max, gb2t_std, git_avg, git_min, git_max, git_std, gost_avg, gost_min, gost_max, gost_std, ya_avg, ya_min, ya_max, ya_std, yt_avg, yt_min, yt_max, yt_std, ws1_avg, ws1_min, ws1_max, ws1_std, ws2_avg, ws2_min, ws2_max, ws2_std, ws_avg, ws_min, ws_max, ws_std, wa_avg, wa_min, wa_max, wa_std, va1_avg, va1_min, va1_max, va1_std, va2_avg, va2_min, va2_max, va2_std, va_avg, va_min, ...]\n",
       "Index: []\n",
       "\n",
       "[0 rows x 138 columns]"
      ]
     },
     "execution_count": 38,
     "metadata": {},
     "output_type": "execute_result"
    }
   ],
   "source": [
    "df = pd.DataFrame(columns=columns)\n",
    "df"
   ]
  },
  {
   "cell_type": "code",
   "execution_count": 39,
   "metadata": {},
   "outputs": [],
   "source": [
    "list_dict = []\n",
    "cols = columns\n",
    "for row in text:\n",
    "    entry = row.split(';')\n",
    "    list_dict.append(dict(zip(cols, entry)))"
   ]
  },
  {
   "cell_type": "code",
   "execution_count": 40,
   "metadata": {},
   "outputs": [
    {
     "data": {
      "text/plain": [
       "840380"
      ]
     },
     "execution_count": 40,
     "metadata": {},
     "output_type": "execute_result"
    }
   ],
   "source": [
    "len(list_dict)"
   ]
  },
  {
   "cell_type": "code",
   "execution_count": 43,
   "metadata": {},
   "outputs": [],
   "source": [
    "df = df.append(list_dict)"
   ]
  },
  {
   "cell_type": "code",
   "execution_count": 50,
   "metadata": {},
   "outputs": [
    {
     "data": {
      "text/html": [
       "<div>\n",
       "<style>\n",
       "    .dataframe thead tr:only-child th {\n",
       "        text-align: right;\n",
       "    }\n",
       "\n",
       "    .dataframe thead th {\n",
       "        text-align: left;\n",
       "    }\n",
       "\n",
       "    .dataframe tbody tr th {\n",
       "        vertical-align: top;\n",
       "    }\n",
       "</style>\n",
       "<table border=\"1\" class=\"dataframe\">\n",
       "  <thead>\n",
       "    <tr style=\"text-align: right;\">\n",
       "      <th></th>\n",
       "      <th>wind_turbine_name</th>\n",
       "      <th>date_time</th>\n",
       "      <th>ba_avg</th>\n",
       "      <th>ba_min</th>\n",
       "      <th>ba_max</th>\n",
       "      <th>ba_std</th>\n",
       "      <th>rt_avg</th>\n",
       "      <th>rt_min</th>\n",
       "      <th>rt_max</th>\n",
       "      <th>rt_std</th>\n",
       "      <th>...</th>\n",
       "      <th>pas_max</th>\n",
       "      <th>pas_std</th>\n",
       "      <th>wa_c_avg</th>\n",
       "      <th>wa_c_min</th>\n",
       "      <th>wa_c_max</th>\n",
       "      <th>wa_c_std</th>\n",
       "      <th>na_c_avg</th>\n",
       "      <th>na_c_min</th>\n",
       "      <th>na_c_max</th>\n",
       "      <th>na_c_std</th>\n",
       "    </tr>\n",
       "  </thead>\n",
       "  <tbody>\n",
       "    <tr>\n",
       "      <th>0</th>\n",
       "      <td>R80711</td>\n",
       "      <td>2013-01-06T10:20:00+00:00</td>\n",
       "      <td>-0.75999999</td>\n",
       "      <td>-1.0</td>\n",
       "      <td>0.0</td>\n",
       "      <td>0.40000001</td>\n",
       "      <td>13.78</td>\n",
       "      <td>13.0</td>\n",
       "      <td>14.0</td>\n",
       "      <td>0.34999999</td>\n",
       "      <td>...</td>\n",
       "      <td></td>\n",
       "      <td></td>\n",
       "      <td>293.01001</td>\n",
       "      <td></td>\n",
       "      <td></td>\n",
       "      <td></td>\n",
       "      <td>293.87</td>\n",
       "      <td></td>\n",
       "      <td></td>\n",
       "      <td></td>\n",
       "    </tr>\n",
       "    <tr>\n",
       "      <th>1</th>\n",
       "      <td>R80711</td>\n",
       "      <td>2013-01-06T06:30:00+00:00</td>\n",
       "      <td>-0.38999999</td>\n",
       "      <td>-1.0</td>\n",
       "      <td>0.07</td>\n",
       "      <td>0.34999999</td>\n",
       "      <td>13.0</td>\n",
       "      <td>13.0</td>\n",
       "      <td>13.0</td>\n",
       "      <td>0.0</td>\n",
       "      <td>...</td>\n",
       "      <td></td>\n",
       "      <td></td>\n",
       "      <td>263.41998</td>\n",
       "      <td></td>\n",
       "      <td></td>\n",
       "      <td></td>\n",
       "      <td>223.98</td>\n",
       "      <td></td>\n",
       "      <td></td>\n",
       "      <td></td>\n",
       "    </tr>\n",
       "    <tr>\n",
       "      <th>2</th>\n",
       "      <td>R80711</td>\n",
       "      <td>2013-01-06T13:00:00+00:00</td>\n",
       "      <td>-0.94999999</td>\n",
       "      <td>-1.0</td>\n",
       "      <td>0.0</td>\n",
       "      <td>0.17</td>\n",
       "      <td>14.0</td>\n",
       "      <td>14.0</td>\n",
       "      <td>14.0</td>\n",
       "      <td>0.0</td>\n",
       "      <td>...</td>\n",
       "      <td></td>\n",
       "      <td></td>\n",
       "      <td>305.81</td>\n",
       "      <td></td>\n",
       "      <td></td>\n",
       "      <td></td>\n",
       "      <td>293.87</td>\n",
       "      <td></td>\n",
       "      <td></td>\n",
       "      <td></td>\n",
       "    </tr>\n",
       "    <tr>\n",
       "      <th>3</th>\n",
       "      <td>R80711</td>\n",
       "      <td>2013-01-06T08:50:00+00:00</td>\n",
       "      <td>-1.0</td>\n",
       "      <td>-1.0</td>\n",
       "      <td>-1.0</td>\n",
       "      <td>0.0</td>\n",
       "      <td>13.15</td>\n",
       "      <td>13.0</td>\n",
       "      <td>14.0</td>\n",
       "      <td>0.27000001</td>\n",
       "      <td>...</td>\n",
       "      <td></td>\n",
       "      <td></td>\n",
       "      <td>285.79999</td>\n",
       "      <td></td>\n",
       "      <td></td>\n",
       "      <td></td>\n",
       "      <td>293.87</td>\n",
       "      <td></td>\n",
       "      <td></td>\n",
       "      <td></td>\n",
       "    </tr>\n",
       "    <tr>\n",
       "      <th>4</th>\n",
       "      <td>R80711</td>\n",
       "      <td>2013-01-10T16:30:00+00:00</td>\n",
       "      <td>-1.0</td>\n",
       "      <td>-1.0</td>\n",
       "      <td>-1.0</td>\n",
       "      <td>0.0</td>\n",
       "      <td>9.5600004</td>\n",
       "      <td>9.0</td>\n",
       "      <td>10.0</td>\n",
       "      <td>0.41999999</td>\n",
       "      <td>...</td>\n",
       "      <td></td>\n",
       "      <td></td>\n",
       "      <td>201.86</td>\n",
       "      <td></td>\n",
       "      <td></td>\n",
       "      <td></td>\n",
       "      <td>207.17</td>\n",
       "      <td></td>\n",
       "      <td></td>\n",
       "      <td></td>\n",
       "    </tr>\n",
       "  </tbody>\n",
       "</table>\n",
       "<p>5 rows × 138 columns</p>\n",
       "</div>"
      ],
      "text/plain": [
       "  wind_turbine_name                  date_time       ba_avg ba_min ba_max  \\\n",
       "0            R80711  2013-01-06T10:20:00+00:00  -0.75999999   -1.0    0.0   \n",
       "1            R80711  2013-01-06T06:30:00+00:00  -0.38999999   -1.0   0.07   \n",
       "2            R80711  2013-01-06T13:00:00+00:00  -0.94999999   -1.0    0.0   \n",
       "3            R80711  2013-01-06T08:50:00+00:00         -1.0   -1.0   -1.0   \n",
       "4            R80711  2013-01-10T16:30:00+00:00         -1.0   -1.0   -1.0   \n",
       "\n",
       "       ba_std     rt_avg rt_min rt_max      rt_std   ...    pas_max pas_std  \\\n",
       "0  0.40000001      13.78   13.0   14.0  0.34999999   ...                      \n",
       "1  0.34999999       13.0   13.0   13.0         0.0   ...                      \n",
       "2        0.17       14.0   14.0   14.0         0.0   ...                      \n",
       "3         0.0      13.15   13.0   14.0  0.27000001   ...                      \n",
       "4         0.0  9.5600004    9.0   10.0  0.41999999   ...                      \n",
       "\n",
       "    wa_c_avg wa_c_min wa_c_max wa_c_std na_c_avg na_c_min na_c_max na_c_std  \n",
       "0  293.01001                              293.87                             \n",
       "1  263.41998                              223.98                             \n",
       "2     305.81                              293.87                             \n",
       "3  285.79999                              293.87                             \n",
       "4     201.86                              207.17                             \n",
       "\n",
       "[5 rows x 138 columns]"
      ]
     },
     "execution_count": 50,
     "metadata": {},
     "output_type": "execute_result"
    }
   ],
   "source": [
    "df.head()"
   ]
  },
  {
   "cell_type": "markdown",
   "metadata": {},
   "source": [
    "As we can see the dataframe contains 840380 records and 138 columns"
   ]
  },
  {
   "cell_type": "code",
   "execution_count": 51,
   "metadata": {},
   "outputs": [
    {
     "data": {
      "text/plain": [
       "(840380, 138)"
      ]
     },
     "execution_count": 51,
     "metadata": {},
     "output_type": "execute_result"
    }
   ],
   "source": [
    "df.shape"
   ]
  },
  {
   "cell_type": "code",
   "execution_count": 53,
   "metadata": {},
   "outputs": [
    {
     "data": {
      "text/plain": [
       "array(['wind_turbine_name', 'date_time', 'ba_avg', 'ba_min', 'ba_max',\n",
       "       'ba_std', 'rt_avg', 'rt_min', 'rt_max', 'rt_std', 'dcs_avg',\n",
       "       'dcs_min', 'dcs_max', 'dcs_std', 'cm_avg', 'cm_min', 'cm_max',\n",
       "       'cm_std', 'p_avg', 'p_min', 'p_max', 'p_std', 'q_avg', 'q_min',\n",
       "       'q_max', 'q_std', 's_avg', 's_min', 's_max', 's_std', 'cosphi_avg',\n",
       "       'cosphi_min', 'cosphi_max', 'cosphi_std', 'ds_avg', 'ds_min',\n",
       "       'ds_max', 'ds_std', 'db1t_avg', 'db1t_min', 'db1t_max', 'db1t_std',\n",
       "       'db2t_avg', 'db2t_min', 'db2t_max', 'db2t_std', 'dst_avg',\n",
       "       'dst_min', 'dst_max', 'dst_std', 'gb1t_avg', 'gb1t_min', 'gb1t_max',\n",
       "       'gb1t_std', 'gb2t_avg', 'gb2t_min', 'gb2t_max', 'gb2t_std',\n",
       "       'git_avg', 'git_min', 'git_max', 'git_std', 'gost_avg', 'gost_min',\n",
       "       'gost_max', 'gost_std', 'ya_avg', 'ya_min', 'ya_max', 'ya_std',\n",
       "       'yt_avg', 'yt_min', 'yt_max', 'yt_std', 'ws1_avg', 'ws1_min',\n",
       "       'ws1_max', 'ws1_std', 'ws2_avg', 'ws2_min', 'ws2_max', 'ws2_std',\n",
       "       'ws_avg', 'ws_min', 'ws_max', 'ws_std', 'wa_avg', 'wa_min',\n",
       "       'wa_max', 'wa_std', 'va1_avg', 'va1_min', 'va1_max', 'va1_std',\n",
       "       'va2_avg', 'va2_min', 'va2_max', 'va2_std', 'va_avg', 'va_min',\n",
       "       'va_max', 'va_std', 'ot_avg', 'ot_min', 'ot_max', 'ot_std',\n",
       "       'nf_avg', 'nf_min', 'nf_max', 'nf_std', 'nu_avg', 'nu_min',\n",
       "       'nu_max', 'nu_std', 'rs_avg', 'rs_min', 'rs_max', 'rs_std',\n",
       "       'rbt_avg', 'rbt_min', 'rbt_max', 'rbt_std', 'rm_avg', 'rm_min',\n",
       "       'rm_max', 'rm_std', 'pas_avg', 'pas_min', 'pas_max', 'pas_std',\n",
       "       'wa_c_avg', 'wa_c_min', 'wa_c_max', 'wa_c_std', 'na_c_avg',\n",
       "       'na_c_min', 'na_c_max', 'na_c_std'], dtype=object)"
      ]
     },
     "execution_count": 53,
     "metadata": {},
     "output_type": "execute_result"
    }
   ],
   "source": [
    "df.columns.values"
   ]
  },
  {
   "cell_type": "markdown",
   "metadata": {},
   "source": [
    "The website also provides two csv files called data_description and static-information which contain detailed information about the data features included in the dataset and some important metadata for the turbines themselves such as Manufacturer, model, hub height, rated power, geolocation etc."
   ]
  },
  {
   "cell_type": "code",
   "execution_count": 57,
   "metadata": {},
   "outputs": [
    {
     "data": {
      "text/html": [
       "<div>\n",
       "<style>\n",
       "    .dataframe thead tr:only-child th {\n",
       "        text-align: right;\n",
       "    }\n",
       "\n",
       "    .dataframe thead th {\n",
       "        text-align: left;\n",
       "    }\n",
       "\n",
       "    .dataframe tbody tr th {\n",
       "        vertical-align: top;\n",
       "    }\n",
       "</style>\n",
       "<table border=\"1\" class=\"dataframe\">\n",
       "  <thead>\n",
       "    <tr style=\"text-align: right;\">\n",
       "      <th></th>\n",
       "      <th>Variable_name</th>\n",
       "      <th>Variable_long_name</th>\n",
       "      <th>Unit_long_name</th>\n",
       "      <th>Comment</th>\n",
       "    </tr>\n",
       "  </thead>\n",
       "  <tbody>\n",
       "    <tr>\n",
       "      <th>0</th>\n",
       "      <td>Va2</td>\n",
       "      <td>Vane_position_2</td>\n",
       "      <td>deg</td>\n",
       "      <td>Second wind vane on the nacelle</td>\n",
       "    </tr>\n",
       "    <tr>\n",
       "      <th>1</th>\n",
       "      <td>Ws2</td>\n",
       "      <td>Wind_speed_2</td>\n",
       "      <td>m/s</td>\n",
       "      <td>Second anemometer on the nacelle</td>\n",
       "    </tr>\n",
       "    <tr>\n",
       "      <th>2</th>\n",
       "      <td>Ws</td>\n",
       "      <td>Wind_speed</td>\n",
       "      <td>m/s</td>\n",
       "      <td>Average wind speed</td>\n",
       "    </tr>\n",
       "    <tr>\n",
       "      <th>3</th>\n",
       "      <td>Wa_c</td>\n",
       "      <td>Absolute_wind_direction_corrected</td>\n",
       "      <td>deg</td>\n",
       "      <td>NaN</td>\n",
       "    </tr>\n",
       "    <tr>\n",
       "      <th>4</th>\n",
       "      <td>Na_c</td>\n",
       "      <td>Nacelle_angle_corrected</td>\n",
       "      <td>deg</td>\n",
       "      <td>NaN</td>\n",
       "    </tr>\n",
       "    <tr>\n",
       "      <th>5</th>\n",
       "      <td>Ot</td>\n",
       "      <td>Outdoor_temperature</td>\n",
       "      <td>deg_C</td>\n",
       "      <td>NaN</td>\n",
       "    </tr>\n",
       "    <tr>\n",
       "      <th>6</th>\n",
       "      <td>Yt</td>\n",
       "      <td>Nacelle_temperature</td>\n",
       "      <td>deg_C</td>\n",
       "      <td>NaN</td>\n",
       "    </tr>\n",
       "    <tr>\n",
       "      <th>7</th>\n",
       "      <td>Nf</td>\n",
       "      <td>Grid_frequency</td>\n",
       "      <td>Hz</td>\n",
       "      <td>NaN</td>\n",
       "    </tr>\n",
       "    <tr>\n",
       "      <th>8</th>\n",
       "      <td>Nu</td>\n",
       "      <td>Grid_voltage</td>\n",
       "      <td>V</td>\n",
       "      <td>NaN</td>\n",
       "    </tr>\n",
       "    <tr>\n",
       "      <th>9</th>\n",
       "      <td>Rm</td>\n",
       "      <td>Torque</td>\n",
       "      <td>Nm</td>\n",
       "      <td>NaN</td>\n",
       "    </tr>\n",
       "    <tr>\n",
       "      <th>10</th>\n",
       "      <td>Dst</td>\n",
       "      <td>Generator_stator_temperature</td>\n",
       "      <td>deg_C</td>\n",
       "      <td>NaN</td>\n",
       "    </tr>\n",
       "    <tr>\n",
       "      <th>11</th>\n",
       "      <td>Git</td>\n",
       "      <td>Gearbox_inlet_temperature</td>\n",
       "      <td>deg_C</td>\n",
       "      <td>NaN</td>\n",
       "    </tr>\n",
       "    <tr>\n",
       "      <th>12</th>\n",
       "      <td>Q</td>\n",
       "      <td>Reactive_power</td>\n",
       "      <td>kVAr</td>\n",
       "      <td>NaN</td>\n",
       "    </tr>\n",
       "    <tr>\n",
       "      <th>13</th>\n",
       "      <td>DCs</td>\n",
       "      <td>Generator_converter_speed</td>\n",
       "      <td>rpm</td>\n",
       "      <td>NaN</td>\n",
       "    </tr>\n",
       "    <tr>\n",
       "      <th>14</th>\n",
       "      <td>Cm</td>\n",
       "      <td>Converter_torque</td>\n",
       "      <td>Nm</td>\n",
       "      <td>NaN</td>\n",
       "    </tr>\n",
       "    <tr>\n",
       "      <th>15</th>\n",
       "      <td>Ds</td>\n",
       "      <td>Generator_speed</td>\n",
       "      <td>rpm</td>\n",
       "      <td>NaN</td>\n",
       "    </tr>\n",
       "    <tr>\n",
       "      <th>16</th>\n",
       "      <td>Gb2t</td>\n",
       "      <td>Gearbox_bearing_2_temperature</td>\n",
       "      <td>deg_C</td>\n",
       "      <td>NaN</td>\n",
       "    </tr>\n",
       "    <tr>\n",
       "      <th>17</th>\n",
       "      <td>Gost</td>\n",
       "      <td>Gearbox_oil_sump_temperature</td>\n",
       "      <td>deg_C</td>\n",
       "      <td>NaN</td>\n",
       "    </tr>\n",
       "    <tr>\n",
       "      <th>18</th>\n",
       "      <td>Ya</td>\n",
       "      <td>Nacelle_angle</td>\n",
       "      <td>deg</td>\n",
       "      <td>NaN</td>\n",
       "    </tr>\n",
       "    <tr>\n",
       "      <th>19</th>\n",
       "      <td>Wa</td>\n",
       "      <td>Absolute_wind_direction</td>\n",
       "      <td>deg</td>\n",
       "      <td>NaN</td>\n",
       "    </tr>\n",
       "    <tr>\n",
       "      <th>20</th>\n",
       "      <td>Va</td>\n",
       "      <td>Vane_position</td>\n",
       "      <td>deg</td>\n",
       "      <td>NaN</td>\n",
       "    </tr>\n",
       "    <tr>\n",
       "      <th>21</th>\n",
       "      <td>Rs</td>\n",
       "      <td>Rotor_speed</td>\n",
       "      <td>rpm</td>\n",
       "      <td>NaN</td>\n",
       "    </tr>\n",
       "    <tr>\n",
       "      <th>22</th>\n",
       "      <td>Ba</td>\n",
       "      <td>Pitch_angle</td>\n",
       "      <td>deg</td>\n",
       "      <td>NaN</td>\n",
       "    </tr>\n",
       "    <tr>\n",
       "      <th>23</th>\n",
       "      <td>Rt</td>\n",
       "      <td>Hub_temperature</td>\n",
       "      <td>deg_C</td>\n",
       "      <td>NaN</td>\n",
       "    </tr>\n",
       "    <tr>\n",
       "      <th>24</th>\n",
       "      <td>P</td>\n",
       "      <td>Active_power</td>\n",
       "      <td>kW</td>\n",
       "      <td>NaN</td>\n",
       "    </tr>\n",
       "    <tr>\n",
       "      <th>25</th>\n",
       "      <td>S</td>\n",
       "      <td>Apparent_power</td>\n",
       "      <td>kVA</td>\n",
       "      <td>Should be the square root of the sum of P squa...</td>\n",
       "    </tr>\n",
       "    <tr>\n",
       "      <th>26</th>\n",
       "      <td>Cosphi</td>\n",
       "      <td>Power_factor</td>\n",
       "      <td>NaN</td>\n",
       "      <td>Should equal P/S</td>\n",
       "    </tr>\n",
       "    <tr>\n",
       "      <th>27</th>\n",
       "      <td>Db1t</td>\n",
       "      <td>Generator_bearing_1_temperature</td>\n",
       "      <td>deg_C</td>\n",
       "      <td>NaN</td>\n",
       "    </tr>\n",
       "    <tr>\n",
       "      <th>28</th>\n",
       "      <td>Db2t</td>\n",
       "      <td>Generator_bearing_2_temperature</td>\n",
       "      <td>deg_C</td>\n",
       "      <td>NaN</td>\n",
       "    </tr>\n",
       "    <tr>\n",
       "      <th>29</th>\n",
       "      <td>Gb1t</td>\n",
       "      <td>Gearbox_bearing_1_temperature</td>\n",
       "      <td>deg_C</td>\n",
       "      <td>NaN</td>\n",
       "    </tr>\n",
       "    <tr>\n",
       "      <th>30</th>\n",
       "      <td>Ws1</td>\n",
       "      <td>Wind_speed_1</td>\n",
       "      <td>m/s</td>\n",
       "      <td>First anemometer on the nacelle</td>\n",
       "    </tr>\n",
       "    <tr>\n",
       "      <th>31</th>\n",
       "      <td>Va1</td>\n",
       "      <td>Vane_position_1</td>\n",
       "      <td>deg</td>\n",
       "      <td>First wind vane on the nacelle</td>\n",
       "    </tr>\n",
       "    <tr>\n",
       "      <th>32</th>\n",
       "      <td>Rbt</td>\n",
       "      <td>Rotor_bearing_temperature</td>\n",
       "      <td>deg_C</td>\n",
       "      <td>NaN</td>\n",
       "    </tr>\n",
       "    <tr>\n",
       "      <th>33</th>\n",
       "      <td>Pas</td>\n",
       "      <td>Pitch_angle_setpoint</td>\n",
       "      <td>NaN</td>\n",
       "      <td>NaN</td>\n",
       "    </tr>\n",
       "  </tbody>\n",
       "</table>\n",
       "</div>"
      ],
      "text/plain": [
       "   Variable_name                 Variable_long_name Unit_long_name  \\\n",
       "0            Va2                    Vane_position_2            deg   \n",
       "1            Ws2                       Wind_speed_2            m/s   \n",
       "2             Ws                         Wind_speed            m/s   \n",
       "3           Wa_c  Absolute_wind_direction_corrected            deg   \n",
       "4           Na_c            Nacelle_angle_corrected            deg   \n",
       "5             Ot                Outdoor_temperature          deg_C   \n",
       "6             Yt                Nacelle_temperature          deg_C   \n",
       "7             Nf                     Grid_frequency             Hz   \n",
       "8             Nu                       Grid_voltage              V   \n",
       "9             Rm                             Torque             Nm   \n",
       "10           Dst       Generator_stator_temperature          deg_C   \n",
       "11           Git          Gearbox_inlet_temperature          deg_C   \n",
       "12             Q                     Reactive_power           kVAr   \n",
       "13           DCs          Generator_converter_speed            rpm   \n",
       "14            Cm                   Converter_torque             Nm   \n",
       "15            Ds                    Generator_speed            rpm   \n",
       "16          Gb2t      Gearbox_bearing_2_temperature          deg_C   \n",
       "17          Gost       Gearbox_oil_sump_temperature          deg_C   \n",
       "18            Ya                      Nacelle_angle            deg   \n",
       "19            Wa            Absolute_wind_direction            deg   \n",
       "20            Va                      Vane_position            deg   \n",
       "21            Rs                        Rotor_speed            rpm   \n",
       "22            Ba                        Pitch_angle            deg   \n",
       "23            Rt                    Hub_temperature          deg_C   \n",
       "24             P                       Active_power             kW   \n",
       "25             S                     Apparent_power            kVA   \n",
       "26        Cosphi                       Power_factor            NaN   \n",
       "27          Db1t    Generator_bearing_1_temperature          deg_C   \n",
       "28          Db2t    Generator_bearing_2_temperature          deg_C   \n",
       "29          Gb1t      Gearbox_bearing_1_temperature          deg_C   \n",
       "30           Ws1                       Wind_speed_1            m/s   \n",
       "31           Va1                    Vane_position_1            deg   \n",
       "32           Rbt          Rotor_bearing_temperature          deg_C   \n",
       "33           Pas               Pitch_angle_setpoint            NaN   \n",
       "\n",
       "                                              Comment  \n",
       "0                     Second wind vane on the nacelle  \n",
       "1                    Second anemometer on the nacelle  \n",
       "2                                  Average wind speed  \n",
       "3                                                 NaN  \n",
       "4                                                 NaN  \n",
       "5                                                 NaN  \n",
       "6                                                 NaN  \n",
       "7                                                 NaN  \n",
       "8                                                 NaN  \n",
       "9                                                 NaN  \n",
       "10                                                NaN  \n",
       "11                                                NaN  \n",
       "12                                                NaN  \n",
       "13                                                NaN  \n",
       "14                                                NaN  \n",
       "15                                                NaN  \n",
       "16                                                NaN  \n",
       "17                                                NaN  \n",
       "18                                                NaN  \n",
       "19                                                NaN  \n",
       "20                                                NaN  \n",
       "21                                                NaN  \n",
       "22                                                NaN  \n",
       "23                                                NaN  \n",
       "24                                                NaN  \n",
       "25  Should be the square root of the sum of P squa...  \n",
       "26                                   Should equal P/S  \n",
       "27                                                NaN  \n",
       "28                                                NaN  \n",
       "29                                                NaN  \n",
       "30                    First anemometer on the nacelle  \n",
       "31                     First wind vane on the nacelle  \n",
       "32                                                NaN  \n",
       "33                                                NaN  "
      ]
     },
     "execution_count": 57,
     "metadata": {},
     "output_type": "execute_result"
    }
   ],
   "source": [
    "descript = pd.read_csv('data_description.csv', sep=';')\n",
    "descript"
   ]
  },
  {
   "cell_type": "code",
   "execution_count": 58,
   "metadata": {},
   "outputs": [
    {
     "data": {
      "text/html": [
       "<div>\n",
       "<style>\n",
       "    .dataframe thead tr:only-child th {\n",
       "        text-align: right;\n",
       "    }\n",
       "\n",
       "    .dataframe thead th {\n",
       "        text-align: left;\n",
       "    }\n",
       "\n",
       "    .dataframe tbody tr th {\n",
       "        vertical-align: top;\n",
       "    }\n",
       "</style>\n",
       "<table border=\"1\" class=\"dataframe\">\n",
       "  <thead>\n",
       "    <tr style=\"text-align: right;\">\n",
       "      <th></th>\n",
       "      <th>Wind_turbine_name</th>\n",
       "      <th>Wind_turbine_long_name</th>\n",
       "      <th>Manufacturer</th>\n",
       "      <th>Model</th>\n",
       "      <th>Rated power (kW)</th>\n",
       "      <th>Hub height (m)</th>\n",
       "      <th>Rotor diameter (m)</th>\n",
       "      <th>GPS</th>\n",
       "      <th>Altitude (m)</th>\n",
       "      <th>Commissioning date</th>\n",
       "      <th>Department</th>\n",
       "      <th>Region</th>\n",
       "    </tr>\n",
       "  </thead>\n",
       "  <tbody>\n",
       "    <tr>\n",
       "      <th>0</th>\n",
       "      <td>R80736</td>\n",
       "      <td>FRHBO_E04_80736</td>\n",
       "      <td>Senvion</td>\n",
       "      <td>MM82</td>\n",
       "      <td>2050</td>\n",
       "      <td>80</td>\n",
       "      <td>82</td>\n",
       "      <td>48.4461, 5.5925</td>\n",
       "      <td>411</td>\n",
       "      <td>2009-01-15</td>\n",
       "      <td>Meuse</td>\n",
       "      <td>Grand Est</td>\n",
       "    </tr>\n",
       "    <tr>\n",
       "      <th>1</th>\n",
       "      <td>R80711</td>\n",
       "      <td>FRHBO_E01_80711</td>\n",
       "      <td>Senvion</td>\n",
       "      <td>MM82</td>\n",
       "      <td>2050</td>\n",
       "      <td>80</td>\n",
       "      <td>82</td>\n",
       "      <td>48.4569, 5.5847</td>\n",
       "      <td>411</td>\n",
       "      <td>2009-01-15</td>\n",
       "      <td>Meuse</td>\n",
       "      <td>Grand Est</td>\n",
       "    </tr>\n",
       "    <tr>\n",
       "      <th>2</th>\n",
       "      <td>R80790</td>\n",
       "      <td>FRHBO_E02_80790</td>\n",
       "      <td>Senvion</td>\n",
       "      <td>MM82</td>\n",
       "      <td>2050</td>\n",
       "      <td>80</td>\n",
       "      <td>82</td>\n",
       "      <td>48.4536, 5.5875</td>\n",
       "      <td>411</td>\n",
       "      <td>2009-01-15</td>\n",
       "      <td>Meuse</td>\n",
       "      <td>Grand Est</td>\n",
       "    </tr>\n",
       "    <tr>\n",
       "      <th>3</th>\n",
       "      <td>R80721</td>\n",
       "      <td>FRHBO_E03_80721</td>\n",
       "      <td>Senvion</td>\n",
       "      <td>MM82</td>\n",
       "      <td>2050</td>\n",
       "      <td>80</td>\n",
       "      <td>82</td>\n",
       "      <td>48.4497, 5.5869</td>\n",
       "      <td>411</td>\n",
       "      <td>2009-01-15</td>\n",
       "      <td>Meuse</td>\n",
       "      <td>Grand Est</td>\n",
       "    </tr>\n",
       "  </tbody>\n",
       "</table>\n",
       "</div>"
      ],
      "text/plain": [
       "  Wind_turbine_name Wind_turbine_long_name Manufacturer Model  \\\n",
       "0            R80736        FRHBO_E04_80736      Senvion  MM82   \n",
       "1            R80711        FRHBO_E01_80711      Senvion  MM82   \n",
       "2            R80790        FRHBO_E02_80790      Senvion  MM82   \n",
       "3            R80721        FRHBO_E03_80721      Senvion  MM82   \n",
       "\n",
       "   Rated power (kW)  Hub height (m)  Rotor diameter (m)              GPS  \\\n",
       "0              2050              80                  82  48.4461, 5.5925   \n",
       "1              2050              80                  82  48.4569, 5.5847   \n",
       "2              2050              80                  82  48.4536, 5.5875   \n",
       "3              2050              80                  82  48.4497, 5.5869   \n",
       "\n",
       "   Altitude (m) Commissioning date Department     Region  \n",
       "0           411         2009-01-15      Meuse  Grand Est  \n",
       "1           411         2009-01-15      Meuse  Grand Est  \n",
       "2           411         2009-01-15      Meuse  Grand Est  \n",
       "3           411         2009-01-15      Meuse  Grand Est  "
      ]
     },
     "execution_count": 58,
     "metadata": {},
     "output_type": "execute_result"
    }
   ],
   "source": [
    "stat = pd.read_csv('static-information.csv', sep=';')\n",
    "stat"
   ]
  },
  {
   "cell_type": "code",
   "execution_count": 54,
   "metadata": {},
   "outputs": [
    {
     "data": {
      "text/html": [
       "<div>\n",
       "<style>\n",
       "    .dataframe thead tr:only-child th {\n",
       "        text-align: right;\n",
       "    }\n",
       "\n",
       "    .dataframe thead th {\n",
       "        text-align: left;\n",
       "    }\n",
       "\n",
       "    .dataframe tbody tr th {\n",
       "        vertical-align: top;\n",
       "    }\n",
       "</style>\n",
       "<table border=\"1\" class=\"dataframe\">\n",
       "  <thead>\n",
       "    <tr style=\"text-align: right;\">\n",
       "      <th></th>\n",
       "      <th>wa_c_avg</th>\n",
       "      <th>wa_avg</th>\n",
       "      <th>ot_avg</th>\n",
       "      <th>yt_avg</th>\n",
       "      <th>rt_avg</th>\n",
       "    </tr>\n",
       "  </thead>\n",
       "  <tbody>\n",
       "    <tr>\n",
       "      <th>1</th>\n",
       "      <td>263.41998</td>\n",
       "      <td>248.42</td>\n",
       "      <td>5.6199999</td>\n",
       "      <td>21.549999</td>\n",
       "      <td>13.0</td>\n",
       "    </tr>\n",
       "    <tr>\n",
       "      <th>2</th>\n",
       "      <td>305.81</td>\n",
       "      <td>290.81</td>\n",
       "      <td>6.5300002</td>\n",
       "      <td>19.25</td>\n",
       "      <td>14.0</td>\n",
       "    </tr>\n",
       "    <tr>\n",
       "      <th>3</th>\n",
       "      <td>285.79999</td>\n",
       "      <td>270.79999</td>\n",
       "      <td>6.1999998</td>\n",
       "      <td>24.77</td>\n",
       "      <td>13.15</td>\n",
       "    </tr>\n",
       "    <tr>\n",
       "      <th>4</th>\n",
       "      <td>201.86</td>\n",
       "      <td>186.86</td>\n",
       "      <td>3.5</td>\n",
       "      <td>19.700001</td>\n",
       "      <td>9.5600004</td>\n",
       "    </tr>\n",
       "    <tr>\n",
       "      <th>5</th>\n",
       "      <td>22.01</td>\n",
       "      <td>7.0100002</td>\n",
       "      <td>-3.01</td>\n",
       "      <td>11.42</td>\n",
       "      <td>6.0</td>\n",
       "    </tr>\n",
       "    <tr>\n",
       "      <th>6</th>\n",
       "      <td>37.77</td>\n",
       "      <td>22.77</td>\n",
       "      <td>5.25</td>\n",
       "      <td>20.57</td>\n",
       "      <td>12.65</td>\n",
       "    </tr>\n",
       "    <tr>\n",
       "      <th>7</th>\n",
       "      <td>285.53</td>\n",
       "      <td>270.53</td>\n",
       "      <td>6.4000001</td>\n",
       "      <td>22.1</td>\n",
       "      <td>13.0</td>\n",
       "    </tr>\n",
       "    <tr>\n",
       "      <th>8</th>\n",
       "      <td>302.87</td>\n",
       "      <td>287.87</td>\n",
       "      <td>5.5100002</td>\n",
       "      <td>23.299999</td>\n",
       "      <td>13.0</td>\n",
       "    </tr>\n",
       "    <tr>\n",
       "      <th>9</th>\n",
       "      <td>343.69</td>\n",
       "      <td>328.69</td>\n",
       "      <td>4.4499998</td>\n",
       "      <td>18.809999</td>\n",
       "      <td>10.01</td>\n",
       "    </tr>\n",
       "    <tr>\n",
       "      <th>10</th>\n",
       "      <td>313.35001</td>\n",
       "      <td>298.35001</td>\n",
       "      <td>4.77</td>\n",
       "      <td>20.610001</td>\n",
       "      <td>12.95</td>\n",
       "    </tr>\n",
       "  </tbody>\n",
       "</table>\n",
       "</div>"
      ],
      "text/plain": [
       "     wa_c_avg     wa_avg     ot_avg     yt_avg     rt_avg\n",
       "1   263.41998     248.42  5.6199999  21.549999       13.0\n",
       "2      305.81     290.81  6.5300002      19.25       14.0\n",
       "3   285.79999  270.79999  6.1999998      24.77      13.15\n",
       "4      201.86     186.86        3.5  19.700001  9.5600004\n",
       "5       22.01  7.0100002      -3.01      11.42        6.0\n",
       "6       37.77      22.77       5.25      20.57      12.65\n",
       "7      285.53     270.53  6.4000001       22.1       13.0\n",
       "8      302.87     287.87  5.5100002  23.299999       13.0\n",
       "9      343.69     328.69  4.4499998  18.809999      10.01\n",
       "10  313.35001  298.35001       4.77  20.610001      12.95"
      ]
     },
     "execution_count": 54,
     "metadata": {},
     "output_type": "execute_result"
    }
   ],
   "source": [
    "df.loc[1:10,['wa_c_avg', 'wa_avg', 'ot_avg', 'yt_avg', 'rt_avg']]"
   ]
  },
  {
   "cell_type": "markdown",
   "metadata": {},
   "source": [
    "We can confirm that the dataset contains data for all 4 turbines in the wind farm by using the `pandas.Series.unique()` call"
   ]
  },
  {
   "cell_type": "code",
   "execution_count": 56,
   "metadata": {},
   "outputs": [
    {
     "data": {
      "text/plain": [
       "array(['R80711', 'R80736', 'R80790', 'R80721'], dtype=object)"
      ]
     },
     "execution_count": 56,
     "metadata": {},
     "output_type": "execute_result"
    }
   ],
   "source": [
    "df.wind_turbine_name.unique()"
   ]
  },
  {
   "cell_type": "markdown",
   "metadata": {},
   "source": [
    "We will choose to keep only the following columns in the dataframe: Date_time, Average Power, Average Wind Speed, Corrected average wind direction, and outdoor temperature. We will also split the dataset into the four turbines and construct a separate dataframe for each using a dictionary called `turbines`"
   ]
  },
  {
   "cell_type": "code",
   "execution_count": 97,
   "metadata": {},
   "outputs": [],
   "source": [
    "# Defining the columns to keep\n",
    "cols_2_keep = ['Date_time', 'P_avg', 'Ws_avg', 'Wa_c_avg', 'Ot_avg']\n",
    "\n",
    "# process the data\n",
    "turbines = {}\n",
    "index = 1\n",
    "for name in df.Wind_turbine_name.unique():\n",
    "    # Splitting data based on wind turbine (1-4)\n",
    "    turbine_name = 'turbine_{}'.format(index)\n",
    "    turbine_data = df.loc[df['Wind_turbine_name'] == name]\n",
    "    \n",
    "    # Cleaning each turbine data by removing Nan's in the wind speed column\n",
    "    turbine_data_clean = turbine_data[np.isfinite(turbine_data['Ws_avg'])]\n",
    "    turbines[turbine_name] = turbine_data_clean.loc[:, cols_2_keep]\n",
    "    index += 1"
   ]
  },
  {
   "cell_type": "code",
   "execution_count": 98,
   "metadata": {},
   "outputs": [
    {
     "data": {
      "text/html": [
       "<div>\n",
       "<style>\n",
       "    .dataframe thead tr:only-child th {\n",
       "        text-align: right;\n",
       "    }\n",
       "\n",
       "    .dataframe thead th {\n",
       "        text-align: left;\n",
       "    }\n",
       "\n",
       "    .dataframe tbody tr th {\n",
       "        vertical-align: top;\n",
       "    }\n",
       "</style>\n",
       "<table border=\"1\" class=\"dataframe\">\n",
       "  <thead>\n",
       "    <tr style=\"text-align: right;\">\n",
       "      <th></th>\n",
       "      <th>Date_time</th>\n",
       "      <th>P_avg</th>\n",
       "      <th>Ws_avg</th>\n",
       "      <th>Wa_c_avg</th>\n",
       "      <th>Ot_avg</th>\n",
       "    </tr>\n",
       "  </thead>\n",
       "  <tbody>\n",
       "    <tr>\n",
       "      <th>0</th>\n",
       "      <td>2013-01-06T05:20:00-05:00</td>\n",
       "      <td>87.900002</td>\n",
       "      <td>4.76</td>\n",
       "      <td>293.01001</td>\n",
       "      <td>6.57</td>\n",
       "    </tr>\n",
       "    <tr>\n",
       "      <th>1</th>\n",
       "      <td>2013-01-06T01:30:00-05:00</td>\n",
       "      <td>35.970001</td>\n",
       "      <td>4.29</td>\n",
       "      <td>263.41998</td>\n",
       "      <td>5.62</td>\n",
       "    </tr>\n",
       "    <tr>\n",
       "      <th>2</th>\n",
       "      <td>2013-01-06T08:00:00-05:00</td>\n",
       "      <td>108.670000</td>\n",
       "      <td>4.96</td>\n",
       "      <td>305.81000</td>\n",
       "      <td>6.53</td>\n",
       "    </tr>\n",
       "    <tr>\n",
       "      <th>3</th>\n",
       "      <td>2013-01-06T03:50:00-05:00</td>\n",
       "      <td>182.300000</td>\n",
       "      <td>5.28</td>\n",
       "      <td>285.79999</td>\n",
       "      <td>6.20</td>\n",
       "    </tr>\n",
       "    <tr>\n",
       "      <th>4</th>\n",
       "      <td>2013-01-10T11:30:00-05:00</td>\n",
       "      <td>454.200010</td>\n",
       "      <td>6.60</td>\n",
       "      <td>201.86000</td>\n",
       "      <td>3.50</td>\n",
       "    </tr>\n",
       "  </tbody>\n",
       "</table>\n",
       "</div>"
      ],
      "text/plain": [
       "                   Date_time       P_avg  Ws_avg   Wa_c_avg  Ot_avg\n",
       "0  2013-01-06T05:20:00-05:00   87.900002    4.76  293.01001    6.57\n",
       "1  2013-01-06T01:30:00-05:00   35.970001    4.29  263.41998    5.62\n",
       "2  2013-01-06T08:00:00-05:00  108.670000    4.96  305.81000    6.53\n",
       "3  2013-01-06T03:50:00-05:00  182.300000    5.28  285.79999    6.20\n",
       "4  2013-01-10T11:30:00-05:00  454.200010    6.60  201.86000    3.50"
      ]
     },
     "execution_count": 98,
     "metadata": {},
     "output_type": "execute_result"
    }
   ],
   "source": [
    "turbines['turbine_1'].head()"
   ]
  },
  {
   "cell_type": "markdown",
   "metadata": {},
   "source": [
    "We will convert the data_time object in the datafram into a pandas `datetime` object to better manipulate the time related features in the dataset. We will add a day of year feautre from the datetime values and sort the data based on the timestamp it was collected"
   ]
  },
  {
   "cell_type": "code",
   "execution_count": 100,
   "metadata": {},
   "outputs": [],
   "source": [
    "# Converting date_time column to datetime variable and picking out day,month,hour,minute and year\n",
    "for key in turbines.keys():\n",
    "    turbines[key]['Date_time'] = pd.to_datetime(turbines[key]['Date_time'],format = '%Y-%m-%dT%H:%M:%S')\n",
    "    turbines[key]['Day'] = turbines[key]['Date_time'].dt.day;\n",
    "    turbines[key]['Month'] = turbines[key]['Date_time'].dt.month;\n",
    "    turbines[key]['Hour'] = turbines[key]['Date_time'].dt.hour;\n",
    "    turbines[key]['Minute'] = turbines[key]['Date_time'].dt.minute;\n",
    "    turbines[key]['Year'] = turbines[key]['Date_time'].dt.year;\n",
    "    turbines[key]['DOY'] = turbines[key]['Date_time'].dt.dayofyear"
   ]
  },
  {
   "cell_type": "code",
   "execution_count": 103,
   "metadata": {},
   "outputs": [],
   "source": [
    "# Sorting the rows based on the date time\n",
    "for key in turbines.keys():\n",
    "    turbine_sorted = turbines[key].sort_values(by = 'Date_time')\n",
    "    turbines[key] = turbine_sorted.set_index('Date_time')"
   ]
  },
  {
   "cell_type": "code",
   "execution_count": 105,
   "metadata": {},
   "outputs": [
    {
     "data": {
      "text/html": [
       "<div>\n",
       "<style>\n",
       "    .dataframe thead tr:only-child th {\n",
       "        text-align: right;\n",
       "    }\n",
       "\n",
       "    .dataframe thead th {\n",
       "        text-align: left;\n",
       "    }\n",
       "\n",
       "    .dataframe tbody tr th {\n",
       "        vertical-align: top;\n",
       "    }\n",
       "</style>\n",
       "<table border=\"1\" class=\"dataframe\">\n",
       "  <thead>\n",
       "    <tr style=\"text-align: right;\">\n",
       "      <th></th>\n",
       "      <th>P_avg</th>\n",
       "      <th>Ws_avg</th>\n",
       "      <th>Wa_c_avg</th>\n",
       "      <th>Ot_avg</th>\n",
       "      <th>Day</th>\n",
       "      <th>Month</th>\n",
       "      <th>Hour</th>\n",
       "      <th>Minute</th>\n",
       "      <th>Year</th>\n",
       "      <th>DOY</th>\n",
       "    </tr>\n",
       "    <tr>\n",
       "      <th>Date_time</th>\n",
       "      <th></th>\n",
       "      <th></th>\n",
       "      <th></th>\n",
       "      <th></th>\n",
       "      <th></th>\n",
       "      <th></th>\n",
       "      <th></th>\n",
       "      <th></th>\n",
       "      <th></th>\n",
       "      <th></th>\n",
       "    </tr>\n",
       "  </thead>\n",
       "  <tbody>\n",
       "    <tr>\n",
       "      <th>2016-12-31 22:10:00</th>\n",
       "      <td>-0.560000</td>\n",
       "      <td>3.30</td>\n",
       "      <td>195.14000</td>\n",
       "      <td>3.83</td>\n",
       "      <td>31</td>\n",
       "      <td>12</td>\n",
       "      <td>22</td>\n",
       "      <td>10</td>\n",
       "      <td>2016</td>\n",
       "      <td>366</td>\n",
       "    </tr>\n",
       "    <tr>\n",
       "      <th>2016-12-31 22:20:00</th>\n",
       "      <td>-0.730000</td>\n",
       "      <td>3.46</td>\n",
       "      <td>196.17999</td>\n",
       "      <td>3.66</td>\n",
       "      <td>31</td>\n",
       "      <td>12</td>\n",
       "      <td>22</td>\n",
       "      <td>20</td>\n",
       "      <td>2016</td>\n",
       "      <td>366</td>\n",
       "    </tr>\n",
       "    <tr>\n",
       "      <th>2016-12-31 22:30:00</th>\n",
       "      <td>20.950001</td>\n",
       "      <td>3.87</td>\n",
       "      <td>195.72000</td>\n",
       "      <td>3.52</td>\n",
       "      <td>31</td>\n",
       "      <td>12</td>\n",
       "      <td>22</td>\n",
       "      <td>30</td>\n",
       "      <td>2016</td>\n",
       "      <td>366</td>\n",
       "    </tr>\n",
       "    <tr>\n",
       "      <th>2016-12-31 22:40:00</th>\n",
       "      <td>54.900002</td>\n",
       "      <td>4.37</td>\n",
       "      <td>196.32001</td>\n",
       "      <td>3.62</td>\n",
       "      <td>31</td>\n",
       "      <td>12</td>\n",
       "      <td>22</td>\n",
       "      <td>40</td>\n",
       "      <td>2016</td>\n",
       "      <td>366</td>\n",
       "    </tr>\n",
       "    <tr>\n",
       "      <th>2016-12-31 22:50:00</th>\n",
       "      <td>94.010002</td>\n",
       "      <td>4.80</td>\n",
       "      <td>198.25000</td>\n",
       "      <td>3.73</td>\n",
       "      <td>31</td>\n",
       "      <td>12</td>\n",
       "      <td>22</td>\n",
       "      <td>50</td>\n",
       "      <td>2016</td>\n",
       "      <td>366</td>\n",
       "    </tr>\n",
       "  </tbody>\n",
       "</table>\n",
       "</div>"
      ],
      "text/plain": [
       "                         P_avg  Ws_avg   Wa_c_avg  Ot_avg  Day  Month  Hour  \\\n",
       "Date_time                                                                     \n",
       "2016-12-31 22:10:00  -0.560000    3.30  195.14000    3.83   31     12    22   \n",
       "2016-12-31 22:20:00  -0.730000    3.46  196.17999    3.66   31     12    22   \n",
       "2016-12-31 22:30:00  20.950001    3.87  195.72000    3.52   31     12    22   \n",
       "2016-12-31 22:40:00  54.900002    4.37  196.32001    3.62   31     12    22   \n",
       "2016-12-31 22:50:00  94.010002    4.80  198.25000    3.73   31     12    22   \n",
       "\n",
       "                     Minute  Year  DOY  \n",
       "Date_time                               \n",
       "2016-12-31 22:10:00      10  2016  366  \n",
       "2016-12-31 22:20:00      20  2016  366  \n",
       "2016-12-31 22:30:00      30  2016  366  \n",
       "2016-12-31 22:40:00      40  2016  366  \n",
       "2016-12-31 22:50:00      50  2016  366  "
      ]
     },
     "execution_count": 105,
     "metadata": {},
     "output_type": "execute_result"
    }
   ],
   "source": [
    "turbines['turbine_1'].tail()"
   ]
  },
  {
   "cell_type": "markdown",
   "metadata": {},
   "source": [
    "##### Feature Engineering: Cyclical Time Features \n",
    "We will cinstruct a sine and cosine transform to encode the cyclical information about the day of the year and the hour of the day when the data was collected. We will also clean the dataset by removing nan values and finding the intersection of hte timestamps in all four turbines so they contain data for the same date and times and the same number of records.  "
   ]
  },
  {
   "cell_type": "code",
   "execution_count": 118,
   "metadata": {},
   "outputs": [],
   "source": [
    "for key in turbines.keys():\n",
    "    turbines[key] = turbines[key].assign(cos_hr = lambda x: np.cos(x['Hour']*2*np.pi/24))\n",
    "    turbines[key] = turbines[key].assign(sin_hr = lambda x: np.sin(x['Hour']*2*np.pi/24))\n",
    "    turbines[key] = turbines[key].assign(cos_day = lambda x: np.cos(x['DOY']*2*np.pi/365))\n",
    "    turbines[key] = turbines[key].assign(sin_day = lambda x: np.sin(x['DOY']*2*np.pi/365))"
   ]
  },
  {
   "cell_type": "code",
   "execution_count": 124,
   "metadata": {},
   "outputs": [
    {
     "data": {
      "text/html": [
       "<div>\n",
       "<style>\n",
       "    .dataframe thead tr:only-child th {\n",
       "        text-align: right;\n",
       "    }\n",
       "\n",
       "    .dataframe thead th {\n",
       "        text-align: left;\n",
       "    }\n",
       "\n",
       "    .dataframe tbody tr th {\n",
       "        vertical-align: top;\n",
       "    }\n",
       "</style>\n",
       "<table border=\"1\" class=\"dataframe\">\n",
       "  <thead>\n",
       "    <tr style=\"text-align: right;\">\n",
       "      <th></th>\n",
       "      <th>P_avg</th>\n",
       "      <th>Ws_avg</th>\n",
       "      <th>Wa_c_avg</th>\n",
       "      <th>Ot_avg</th>\n",
       "      <th>Day</th>\n",
       "      <th>Month</th>\n",
       "      <th>Hour</th>\n",
       "      <th>Minute</th>\n",
       "      <th>Year</th>\n",
       "      <th>DOY</th>\n",
       "      <th>cos_hr</th>\n",
       "      <th>sin_hr</th>\n",
       "      <th>cos_day</th>\n",
       "      <th>sin_day</th>\n",
       "    </tr>\n",
       "    <tr>\n",
       "      <th>Date_time</th>\n",
       "      <th></th>\n",
       "      <th></th>\n",
       "      <th></th>\n",
       "      <th></th>\n",
       "      <th></th>\n",
       "      <th></th>\n",
       "      <th></th>\n",
       "      <th></th>\n",
       "      <th></th>\n",
       "      <th></th>\n",
       "      <th></th>\n",
       "      <th></th>\n",
       "      <th></th>\n",
       "      <th></th>\n",
       "    </tr>\n",
       "  </thead>\n",
       "  <tbody>\n",
       "    <tr>\n",
       "      <th>2012-12-31 23:00:00</th>\n",
       "      <td>1072.6500</td>\n",
       "      <td>8.960000</td>\n",
       "      <td>180.25000</td>\n",
       "      <td>5.09</td>\n",
       "      <td>31</td>\n",
       "      <td>12</td>\n",
       "      <td>23</td>\n",
       "      <td>0</td>\n",
       "      <td>2012</td>\n",
       "      <td>366</td>\n",
       "      <td>0.965926</td>\n",
       "      <td>-0.258819</td>\n",
       "      <td>0.999852</td>\n",
       "      <td>0.017213</td>\n",
       "    </tr>\n",
       "    <tr>\n",
       "      <th>2012-12-31 23:10:00</th>\n",
       "      <td>1061.4301</td>\n",
       "      <td>8.890000</td>\n",
       "      <td>183.28999</td>\n",
       "      <td>5.26</td>\n",
       "      <td>31</td>\n",
       "      <td>12</td>\n",
       "      <td>23</td>\n",
       "      <td>10</td>\n",
       "      <td>2012</td>\n",
       "      <td>366</td>\n",
       "      <td>0.965926</td>\n",
       "      <td>-0.258819</td>\n",
       "      <td>0.999852</td>\n",
       "      <td>0.017213</td>\n",
       "    </tr>\n",
       "    <tr>\n",
       "      <th>2012-12-31 23:20:00</th>\n",
       "      <td>1144.7900</td>\n",
       "      <td>9.190000</td>\n",
       "      <td>185.08000</td>\n",
       "      <td>5.56</td>\n",
       "      <td>31</td>\n",
       "      <td>12</td>\n",
       "      <td>23</td>\n",
       "      <td>20</td>\n",
       "      <td>2012</td>\n",
       "      <td>366</td>\n",
       "      <td>0.965926</td>\n",
       "      <td>-0.258819</td>\n",
       "      <td>0.999852</td>\n",
       "      <td>0.017213</td>\n",
       "    </tr>\n",
       "    <tr>\n",
       "      <th>2012-12-31 23:30:00</th>\n",
       "      <td>1183.9800</td>\n",
       "      <td>8.920000</td>\n",
       "      <td>190.33000</td>\n",
       "      <td>5.70</td>\n",
       "      <td>31</td>\n",
       "      <td>12</td>\n",
       "      <td>23</td>\n",
       "      <td>30</td>\n",
       "      <td>2012</td>\n",
       "      <td>366</td>\n",
       "      <td>0.965926</td>\n",
       "      <td>-0.258819</td>\n",
       "      <td>0.999852</td>\n",
       "      <td>0.017213</td>\n",
       "    </tr>\n",
       "    <tr>\n",
       "      <th>2012-12-31 23:40:00</th>\n",
       "      <td>1317.5500</td>\n",
       "      <td>9.479999</td>\n",
       "      <td>188.07001</td>\n",
       "      <td>5.82</td>\n",
       "      <td>31</td>\n",
       "      <td>12</td>\n",
       "      <td>23</td>\n",
       "      <td>40</td>\n",
       "      <td>2012</td>\n",
       "      <td>366</td>\n",
       "      <td>0.965926</td>\n",
       "      <td>-0.258819</td>\n",
       "      <td>0.999852</td>\n",
       "      <td>0.017213</td>\n",
       "    </tr>\n",
       "  </tbody>\n",
       "</table>\n",
       "</div>"
      ],
      "text/plain": [
       "                         P_avg    Ws_avg   Wa_c_avg  Ot_avg  Day  Month  Hour  \\\n",
       "Date_time                                                                       \n",
       "2012-12-31 23:00:00  1072.6500  8.960000  180.25000    5.09   31     12    23   \n",
       "2012-12-31 23:10:00  1061.4301  8.890000  183.28999    5.26   31     12    23   \n",
       "2012-12-31 23:20:00  1144.7900  9.190000  185.08000    5.56   31     12    23   \n",
       "2012-12-31 23:30:00  1183.9800  8.920000  190.33000    5.70   31     12    23   \n",
       "2012-12-31 23:40:00  1317.5500  9.479999  188.07001    5.82   31     12    23   \n",
       "\n",
       "                     Minute  Year  DOY    cos_hr    sin_hr   cos_day   sin_day  \n",
       "Date_time                                                                       \n",
       "2012-12-31 23:00:00       0  2012  366  0.965926 -0.258819  0.999852  0.017213  \n",
       "2012-12-31 23:10:00      10  2012  366  0.965926 -0.258819  0.999852  0.017213  \n",
       "2012-12-31 23:20:00      20  2012  366  0.965926 -0.258819  0.999852  0.017213  \n",
       "2012-12-31 23:30:00      30  2012  366  0.965926 -0.258819  0.999852  0.017213  \n",
       "2012-12-31 23:40:00      40  2012  366  0.965926 -0.258819  0.999852  0.017213  "
      ]
     },
     "execution_count": 124,
     "metadata": {},
     "output_type": "execute_result"
    }
   ],
   "source": [
    "turbines['turbine_1'].head()"
   ]
  },
  {
   "cell_type": "code",
   "execution_count": 125,
   "metadata": {},
   "outputs": [
    {
     "name": "stdout",
     "output_type": "stream",
     "text": [
      "207789\n",
      "207789\n",
      "207789\n",
      "207789\n"
     ]
    },
    {
     "data": {
      "text/html": [
       "<div>\n",
       "<style>\n",
       "    .dataframe thead tr:only-child th {\n",
       "        text-align: right;\n",
       "    }\n",
       "\n",
       "    .dataframe thead th {\n",
       "        text-align: left;\n",
       "    }\n",
       "\n",
       "    .dataframe tbody tr th {\n",
       "        vertical-align: top;\n",
       "    }\n",
       "</style>\n",
       "<table border=\"1\" class=\"dataframe\">\n",
       "  <thead>\n",
       "    <tr style=\"text-align: right;\">\n",
       "      <th></th>\n",
       "      <th>P_avg</th>\n",
       "      <th>Ws_avg</th>\n",
       "      <th>Wa_c_avg</th>\n",
       "      <th>Ot_avg</th>\n",
       "      <th>Day</th>\n",
       "      <th>Month</th>\n",
       "      <th>Hour</th>\n",
       "      <th>Minute</th>\n",
       "      <th>Year</th>\n",
       "      <th>DOY</th>\n",
       "      <th>cos_hr</th>\n",
       "      <th>sin_hr</th>\n",
       "      <th>cos_day</th>\n",
       "      <th>sin_day</th>\n",
       "    </tr>\n",
       "    <tr>\n",
       "      <th>Date_time</th>\n",
       "      <th></th>\n",
       "      <th></th>\n",
       "      <th></th>\n",
       "      <th></th>\n",
       "      <th></th>\n",
       "      <th></th>\n",
       "      <th></th>\n",
       "      <th></th>\n",
       "      <th></th>\n",
       "      <th></th>\n",
       "      <th></th>\n",
       "      <th></th>\n",
       "      <th></th>\n",
       "      <th></th>\n",
       "    </tr>\n",
       "  </thead>\n",
       "  <tbody>\n",
       "    <tr>\n",
       "      <th>2012-12-31 23:00:00</th>\n",
       "      <td>1072.6500</td>\n",
       "      <td>8.960000</td>\n",
       "      <td>180.25000</td>\n",
       "      <td>5.09</td>\n",
       "      <td>31</td>\n",
       "      <td>12</td>\n",
       "      <td>23</td>\n",
       "      <td>0</td>\n",
       "      <td>2012</td>\n",
       "      <td>366</td>\n",
       "      <td>0.965926</td>\n",
       "      <td>-0.258819</td>\n",
       "      <td>0.999852</td>\n",
       "      <td>0.017213</td>\n",
       "    </tr>\n",
       "    <tr>\n",
       "      <th>2012-12-31 23:10:00</th>\n",
       "      <td>1061.4301</td>\n",
       "      <td>8.890000</td>\n",
       "      <td>183.28999</td>\n",
       "      <td>5.26</td>\n",
       "      <td>31</td>\n",
       "      <td>12</td>\n",
       "      <td>23</td>\n",
       "      <td>10</td>\n",
       "      <td>2012</td>\n",
       "      <td>366</td>\n",
       "      <td>0.965926</td>\n",
       "      <td>-0.258819</td>\n",
       "      <td>0.999852</td>\n",
       "      <td>0.017213</td>\n",
       "    </tr>\n",
       "    <tr>\n",
       "      <th>2012-12-31 23:20:00</th>\n",
       "      <td>1144.7900</td>\n",
       "      <td>9.190000</td>\n",
       "      <td>185.08000</td>\n",
       "      <td>5.56</td>\n",
       "      <td>31</td>\n",
       "      <td>12</td>\n",
       "      <td>23</td>\n",
       "      <td>20</td>\n",
       "      <td>2012</td>\n",
       "      <td>366</td>\n",
       "      <td>0.965926</td>\n",
       "      <td>-0.258819</td>\n",
       "      <td>0.999852</td>\n",
       "      <td>0.017213</td>\n",
       "    </tr>\n",
       "    <tr>\n",
       "      <th>2012-12-31 23:30:00</th>\n",
       "      <td>1183.9800</td>\n",
       "      <td>8.920000</td>\n",
       "      <td>190.33000</td>\n",
       "      <td>5.70</td>\n",
       "      <td>31</td>\n",
       "      <td>12</td>\n",
       "      <td>23</td>\n",
       "      <td>30</td>\n",
       "      <td>2012</td>\n",
       "      <td>366</td>\n",
       "      <td>0.965926</td>\n",
       "      <td>-0.258819</td>\n",
       "      <td>0.999852</td>\n",
       "      <td>0.017213</td>\n",
       "    </tr>\n",
       "    <tr>\n",
       "      <th>2012-12-31 23:40:00</th>\n",
       "      <td>1317.5500</td>\n",
       "      <td>9.479999</td>\n",
       "      <td>188.07001</td>\n",
       "      <td>5.82</td>\n",
       "      <td>31</td>\n",
       "      <td>12</td>\n",
       "      <td>23</td>\n",
       "      <td>40</td>\n",
       "      <td>2012</td>\n",
       "      <td>366</td>\n",
       "      <td>0.965926</td>\n",
       "      <td>-0.258819</td>\n",
       "      <td>0.999852</td>\n",
       "      <td>0.017213</td>\n",
       "    </tr>\n",
       "  </tbody>\n",
       "</table>\n",
       "</div>"
      ],
      "text/plain": [
       "                         P_avg    Ws_avg   Wa_c_avg  Ot_avg  Day  Month  Hour  \\\n",
       "Date_time                                                                       \n",
       "2012-12-31 23:00:00  1072.6500  8.960000  180.25000    5.09   31     12    23   \n",
       "2012-12-31 23:10:00  1061.4301  8.890000  183.28999    5.26   31     12    23   \n",
       "2012-12-31 23:20:00  1144.7900  9.190000  185.08000    5.56   31     12    23   \n",
       "2012-12-31 23:30:00  1183.9800  8.920000  190.33000    5.70   31     12    23   \n",
       "2012-12-31 23:40:00  1317.5500  9.479999  188.07001    5.82   31     12    23   \n",
       "\n",
       "                     Minute  Year  DOY    cos_hr    sin_hr   cos_day   sin_day  \n",
       "Date_time                                                                       \n",
       "2012-12-31 23:00:00       0  2012  366  0.965926 -0.258819  0.999852  0.017213  \n",
       "2012-12-31 23:10:00      10  2012  366  0.965926 -0.258819  0.999852  0.017213  \n",
       "2012-12-31 23:20:00      20  2012  366  0.965926 -0.258819  0.999852  0.017213  \n",
       "2012-12-31 23:30:00      30  2012  366  0.965926 -0.258819  0.999852  0.017213  \n",
       "2012-12-31 23:40:00      40  2012  366  0.965926 -0.258819  0.999852  0.017213  "
      ]
     },
     "execution_count": 125,
     "metadata": {},
     "output_type": "execute_result"
    }
   ],
   "source": [
    "# use the intersection of time of all 4 turbines and keep the common times\n",
    "idx = turbines['turbine_1'].index.intersection(turbines['turbine_2'].index)\n",
    "idx2 = turbines['turbine_3'].index.intersection(idx)\n",
    "idx3 = turbines['turbine_4'].index.intersection(idx2)\n",
    "\n",
    "for key in turbines.keys():\n",
    "    turbines[key] = turbines[key].loc[idx3]\n",
    "    \n",
    "print (len(turbines['turbine_1']))\n",
    "print (len(turbines['turbine_2']))\n",
    "print (len(turbines['turbine_3']))\n",
    "print (len(turbines['turbine_4']))\n",
    "turbines['turbine_1'].head()"
   ]
  },
  {
   "cell_type": "code",
   "execution_count": 126,
   "metadata": {},
   "outputs": [],
   "source": [
    "df1 = turbines['turbine_1'].copy()\n",
    "df2 = turbines['turbine_2'].copy()\n",
    "df3 = turbines['turbine_3'].copy()\n",
    "df4 = turbines['turbine_4'].copy()"
   ]
  },
  {
   "cell_type": "code",
   "execution_count": 127,
   "metadata": {},
   "outputs": [],
   "source": [
    "df1.dropna(inplace=True)\n",
    "df2.dropna(inplace=True)\n",
    "df3.dropna(inplace=True)\n",
    "df4.dropna(inplace=True)"
   ]
  },
  {
   "cell_type": "code",
   "execution_count": 128,
   "metadata": {},
   "outputs": [
    {
     "name": "stdout",
     "output_type": "stream",
     "text": [
      "200329\n",
      "200329\n",
      "200329\n",
      "200329\n"
     ]
    }
   ],
   "source": [
    "print(len(df1))\n",
    "print(len(df2))\n",
    "print(len(df3))\n",
    "print(len(df4))"
   ]
  },
  {
   "cell_type": "markdown",
   "metadata": {},
   "source": [
    "# Exploratory Data Analysis\n",
    "### Plotting power curves\n",
    "\n",
    "We will construct empirical power curves for all four turbines which models the behaviour of the turbine based on the wind speed. This is useful to analyze the power output of the turbine and has value over the provided manufacturers power curve as this is based on observational data while the turbine was in operation. We will plot the normalized power output of the turbine against the wind speed to do this. "
   ]
  },
  {
   "cell_type": "code",
   "execution_count": 129,
   "metadata": {},
   "outputs": [
    {
     "data": {
      "text/plain": [
       "Text(0.5,1,'Empirical Power Curve for Turbine 4')"
      ]
     },
     "execution_count": 129,
     "metadata": {},
     "output_type": "execute_result"
    },
    {
     "data": {
      "image/png": "[encoded data removed]",
      "text/plain": [
       "<matplotlib.figure.Figure at 0x230ebf44fd0>"
      ]
     },
     "metadata": {},
     "output_type": "display_data"
    },
    {
     "data": {
      "image/png": "[encoded data removed]",
      "text/plain": [
       "<matplotlib.figure.Figure at 0x22df4649b70>"
      ]
     },
     "metadata": {},
     "output_type": "display_data"
    },
    {
     "data": {
      "image/png": "[encoded data removed]",
      "text/plain": [
       "<matplotlib.figure.Figure at 0x230e6a4f588>"
      ]
     },
     "metadata": {},
     "output_type": "display_data"
    },
    {
     "data": {
      "image/png": "[encoded data removed]",
      "text/plain": [
       "<matplotlib.figure.Figure at 0x23114159978>"
      ]
     },
     "metadata": {},
     "output_type": "display_data"
    }
   ],
   "source": [
    "# Turbine 1\n",
    "plt.figure(1)\n",
    "plt.plot(df1.Ws_avg, df1.P_avg/2000,'bo')\n",
    "plt.xlabel('Wind Speed (Ws_avg)')\n",
    "plt.ylabel('Normalized Power (P_avg)')\n",
    "plt.title('Empirical Power Curve for Turbine 1')\n",
    "\n",
    "# Turbine 2\n",
    "plt.figure(2)\n",
    "plt.plot(df2.Ws_avg, df2.P_avg/2000,'bo')\n",
    "plt.xlabel('Wind Speed (Ws_avg)')\n",
    "plt.ylabel('Normalized Power (P_avg)')\n",
    "plt.title('Empirical Power Curve for Turbine 2')\n",
    "\n",
    "# Turbine 3\n",
    "plt.figure(3)\n",
    "plt.plot(df3.Ws_avg, df3.P_avg/2000,'bo')\n",
    "plt.xlabel('Wind Speed (Ws_avg)')\n",
    "plt.ylabel('Normalized Power (P_avg)')\n",
    "plt.title('Empirical Power Curve for Turbine 3')\n",
    "\n",
    "# Turbine 4\n",
    "plt.figure(4)\n",
    "plt.plot(df4.Ws_avg, df4.P_avg/2000,'bo')\n",
    "plt.xlabel('Wind Speed (Ws_avg)')\n",
    "plt.ylabel('Normalized Power (P_avg)')\n",
    "plt.title('Empirical Power Curve for Turbine 4')"
   ]
  },
  {
   "cell_type": "markdown",
   "metadata": {},
   "source": [
    "Some interesting observations can be made from the power curves. The shape of all the curves is inherent to the nature of wind turbines, The lower part where the curve starts increasing denotes the cut in wind speed or the minimum wind speed required for this turbine to generate power. The outliers to the right where the wind speed is significantly more than the cut in speed but there is 0 power production might indicate periods when the turbine was under maintainenece. All the curves stop abruptly at much higher wind speeds when they are producing power at the max capacity. This is known as wind cut out speed and it is the wind speed at which the wind blades are brought to rest in order to avoid damage. "
   ]
  },
  {
   "cell_type": "markdown",
   "metadata": {},
   "source": [
    "### Wind farm capacity factor"
   ]
  },
  {
   "cell_type": "markdown",
   "metadata": {},
   "source": [
    "The capacity factor of a power plant is the total amount of power generated over the maximum rater capacity in a given period of time. As stated in the introduction baseload power plants operate near their maximum for most of the time and thus have very high capacity factors (commonly, coal: 60% nuclear: 85-90%). Whereas wind plants usually have a much smaller capacity factor since the wind does not blow all the time. Usual capacity factors for wind plants are 15-25% although some newer plants in the US operate at upto 40-45%"
   ]
  },
  {
   "cell_type": "code",
   "execution_count": 146,
   "metadata": {},
   "outputs": [
    {
     "name": "stdout",
     "output_type": "stream",
     "text": [
      "Capacity Factor for the Wind Farm throughout the period of this data is 0.17\n"
     ]
    }
   ],
   "source": [
    "total_power = sum(turbines['turbine_1'].P_avg+turbines['turbine_2'].P_avg+turbines['turbine_3'].P_avg+turbines['turbine_4'].P_avg)/8000\n",
    "capacity_factor = total_power/200329\n",
    "print('Capacity Factor for the Wind Farm throughout the period of this data is {}'.format(round(capacity_factor, 2)))"
   ]
  },
  {
   "cell_type": "code",
   "execution_count": 136,
   "metadata": {},
   "outputs": [
    {
     "data": {
      "image/png": "[encoded data removed]",
      "text/plain": [
       "<matplotlib.figure.Figure at 0x23112e60128>"
      ]
     },
     "metadata": {},
     "output_type": "display_data"
    }
   ],
   "source": [
    "# Plot histogram of turbine output, summed over all turbines\n",
    "fig, axes = plt.subplots( nrows=1, ncols=1, figsize=(10,5) )\n",
    "axes.hist(df1['P_avg']/2000, bins=100, range=None, normed=False, histtype='bar', align='mid', \n",
    "          orientation='vertical', log=False, color='cornflowerblue', edgecolor='k', label=None)\n",
    "axes.set_xlabel(\"Turbine 1 output\", fontsize=15)\n",
    "plt.show()\n",
    "fig.savefig('wind_turbine1_outputs.png', dpi=200, bbox_inches='tight')"
   ]
  },
  {
   "cell_type": "markdown",
   "metadata": {},
   "source": [
    "The histogram for the turbine 1 output shows that the wind turbine produces significantly less power than its capacity for most of the time."
   ]
  },
  {
   "cell_type": "code",
   "execution_count": 147,
   "metadata": {},
   "outputs": [],
   "source": [
    "cf1 = round(sum(df1['P_avg']/2000)/len(df1), 2)\n",
    "cf2 = round(sum(df2['P_avg']/2000)/len(df2), 2)\n",
    "cf3 = round(sum(df3['P_avg']/2000)/len(df3), 2)\n",
    "cf4 = round(sum(df4['P_avg']/2000)/len(df4), 2)"
   ]
  },
  {
   "cell_type": "code",
   "execution_count": 148,
   "metadata": {},
   "outputs": [
    {
     "name": "stdout",
     "output_type": "stream",
     "text": [
      "The Capacity Factors for the individual turbines are : \n",
      "Turbine 1: 0.19\n",
      "Turbine 2: 0.17\n",
      "Turbine 3: 0.15\n",
      "Turbine 4: 0.16\n"
     ]
    }
   ],
   "source": [
    "print('The Capacity Factors for the individual turbines are : \\nTurbine 1: {0}\\nTurbine 2: {1}\\nTurbine 3: {2}\\nTurbine 4: {3}'.format(cf1,cf2,cf3,cf4))"
   ]
  },
  {
   "cell_type": "markdown",
   "metadata": {},
   "source": [
    "### Wind power output as a function of wind speed\n",
    "Lets analyze the effect of the wind speed on the power output by visualizing the power output of turbine 1 and wind speed measured at this turbine"
   ]
  },
  {
   "cell_type": "code",
   "execution_count": 155,
   "metadata": {},
   "outputs": [
    {
     "name": "stdout",
     "output_type": "stream",
     "text": [
      "20.48 2051.3799\n"
     ]
    }
   ],
   "source": [
    "maxwind = df1.loc[df1['Ws_avg'].idxmax(), 'Ws_avg']\n",
    "maxpower = df1.loc[df1['P_avg'].idxmax(), 'P_avg']\n",
    "print(maxwind, maxpower)"
   ]
  },
  {
   "cell_type": "code",
   "execution_count": 157,
   "metadata": {},
   "outputs": [
    {
     "data": {
      "text/plain": [
       "<matplotlib.legend.Legend at 0x230be7e2588>"
      ]
     },
     "execution_count": 157,
     "metadata": {},
     "output_type": "execute_result"
    },
    {
     "data": {
      "image/png": "[encoded data removed]",
      "text/plain": [
       "<matplotlib.figure.Figure at 0x230be7e25f8>"
      ]
     },
     "metadata": {},
     "output_type": "display_data"
    }
   ],
   "source": [
    "plt.figure(figsize=(15,5))\n",
    "plt.plot(df1['P_avg'][:800]/maxpower)\n",
    "plt.plot(df1['Ws_avg'][:800]/maxwind)\n",
    "plt.xlabel('Time')\n",
    "plt.ylabel('Normalized Wind and Power')\n",
    "plt.title('Normalized Power and Wind at Turbine 1 during the first week of 2013')\n",
    "plt.legend(loc='upper right')"
   ]
  },
  {
   "cell_type": "markdown",
   "metadata": {},
   "source": [
    "As we can see, the power output closely follows the pattern of the wind speed at the turbine. An interesting observation is that on the 6th of Janurary, the wind was low enough that it did not cross the turbines cut in speed and hence power output was zero."
   ]
  },
  {
   "cell_type": "markdown",
   "metadata": {},
   "source": [
    "### Wind Spectral Density\n",
    "The Power spectral density function (PSD) shows the strength of the variations in power output of the wind plant as a function of frequency. In other words, it shows at which frequencies variations are strong and at which frequencies variations are weak. This is extremely important as it reveals a critical characteristic of wind power output. "
   ]
  },
  {
   "cell_type": "code",
   "execution_count": 321,
   "metadata": {},
   "outputs": [],
   "source": [
    "from scipy import signal as signal\n",
    "import matplotlib.pyplot as plt"
   ]
  },
  {
   "cell_type": "code",
   "execution_count": 325,
   "metadata": {},
   "outputs": [],
   "source": [
    "fs = 10e3\n",
    "x = df1['P_avg']\n",
    "f, Pxx_den = signal.periodogram(x, fs)"
   ]
  },
  {
   "cell_type": "code",
   "execution_count": 334,
   "metadata": {},
   "outputs": [
    {
     "data": {
      "image/png": "[encoded data removed]",
      "text/plain": [
       "<matplotlib.figure.Figure at 0x230d264ba20>"
      ]
     },
     "metadata": {},
     "output_type": "display_data"
    }
   ],
   "source": [
    "plt.loglog(f, Pxx_den)\n",
    "plt.ylim([1, 1e7])\n",
    "plt.xlim([1e-2, 1e4])\n",
    "plt.xlabel('Frequency [Hz]')\n",
    "plt.ylabel('Power Spectral Density for Turbine 1')\n",
    "plt.show()"
   ]
  },
  {
   "cell_type": "markdown",
   "metadata": {},
   "source": [
    "As we can see in the PSD curve, the amplitude of variations in the power output for turbine 1 are many orders of magnitude higher at the lower frequencies than at the higher frequencies. This implies that the power fluctuations at the seconds to minutes time scale are much weaker than the variations in power output at the hours to days time scale. This allows us to use fairly moderate ramping plants such as coal and natural gas plants to fill in for the variations. "
   ]
  },
  {
   "cell_type": "markdown",
   "metadata": {},
   "source": [
    "### Wind Rose Diagram\n",
    "To analyze the the behaviour of wind at the site we can look at the wind rose diagram by plotting the wind speed and direction in the form of a wind rose plot for the year 2016"
   ]
  },
  {
   "cell_type": "code",
   "execution_count": 354,
   "metadata": {},
   "outputs": [
    {
     "data": {
      "image/png": "[encoded data removed]",
      "text/plain": [
       "<matplotlib.figure.Figure at 0x230d25ff0f0>"
      ]
     },
     "metadata": {},
     "output_type": "display_data"
    }
   ],
   "source": [
    "from math import radians\n",
    "import matplotlib.cm as cm\n",
    "from math import pi\n",
    "\n",
    "ax = plt.subplot(111, polar=True)\n",
    "ax.scatter(x=[radians(x) for x in df1.loc['2016-01-01':'2016-12-31']['Wa_c_avg'].values], y=df1.loc['2016-01-01':'2016-12-31']['Ws_avg'].values)\n",
    "ax.set_theta_zero_location('N')\n",
    "ax.set_theta_direction(-1)"
   ]
  },
  {
   "cell_type": "code",
   "execution_count": null,
   "metadata": {},
   "outputs": [],
   "source": []
  },
  {
   "cell_type": "markdown",
   "metadata": {},
   "source": [
    "# Predicting the Power Output\n",
    "### Random Forest Regression\n",
    "\n",
    "The Random Forest is one of the most effective machine learning models for predictive analytics, making it an industrial workhorse for machine learning.\n",
    "\n",
    "Background\n",
    "The random forest model is a type of additive model that makes predictions by combining decisions from a sequence of base models. More formally we can write this class of models as:\n",
    "\n",
    "    g(x)=f0(x)+f1(x)+f2(x)+...\n",
    "\n",
    "where the final model g is the sum of simple base models fi. Here, each base regressor is a simple decision tree. This broad technique of using multiple models to obtain better predictive performance is called model ensembling. In random forests, all the base models are constructed independently using a different subsample of the data. We will use the `scikit-learn` library to implement the Random Forest Regression algorithm to predict the wind power output of turbine 1 based on the historial wind speed and other metereological data collected at the wind farm and make predictions on the 72 hour ahead time scale based on wind speed. This allows us to build a statistical model of the behaviour (power output) of the wind turbine based on learnt model.\n",
    "\n",
    "Different kinds of models have different advantages. The random forest model is very good at handling tabular data with numerical features, or categorical features with fewer than hundreds of categories. Unlike linear models, random forests are able to capture non-linear interaction between the features and the target."
   ]
  },
  {
   "cell_type": "code",
   "execution_count": 172,
   "metadata": {},
   "outputs": [],
   "source": [
    "from sklearn.ensemble import RandomForestRegressor\n",
    "#from sklearn.decomposition import PCA\n",
    "from sklearn.model_selection import train_test_split\n",
    "from sklearn.preprocessing import StandardScaler\n",
    "from sklearn.metrics import accuracy_score"
   ]
  },
  {
   "cell_type": "code",
   "execution_count": 279,
   "metadata": {},
   "outputs": [],
   "source": [
    "#model = RandomForestRegressor(n_jobs=-1, min_impurity_decrease=10)\n",
    "model = RandomForestRegressor(n_estimators=10, n_jobs=-1)"
   ]
  },
  {
   "cell_type": "markdown",
   "metadata": {},
   "source": [
    "#### Create training and test sets\n",
    "We split the intire dataset for turbine 1 which covers data fro 2013-2016 into training and testing sets. We utilize approximately 75% of the data for training and the rest for making predictions. We choose the following features for the model: Average wind speed, Corrected wind direction, Outdoor temperature, Sine and cosine transformations of calendar inputs and an auto regressive feature based on the previously observed wind speed to incorporate the effects of the wind speed time series data. "
   ]
  },
  {
   "cell_type": "code",
   "execution_count": 280,
   "metadata": {},
   "outputs": [],
   "source": [
    "X = df1[['Ws_avg', 'Wa_c_avg', 'Ot_avg', 'cos_hr', 'sin_hr', 'cos_day', 'sin_day']].values\n",
    "Y = df1['P_avg'].values"
   ]
  },
  {
   "cell_type": "code",
   "execution_count": 281,
   "metadata": {},
   "outputs": [],
   "source": [
    "X1 = df1[['Ws_avg']].values\n",
    "X1 = X1[1:]\n",
    "X = X[0:200328, :]\n",
    "X1 = X1.flatten()"
   ]
  },
  {
   "cell_type": "code",
   "execution_count": 282,
   "metadata": {},
   "outputs": [],
   "source": [
    "Y = Y[0:200328]"
   ]
  },
  {
   "cell_type": "code",
   "execution_count": 283,
   "metadata": {},
   "outputs": [
    {
     "data": {
      "text/plain": [
       "(200328,)"
      ]
     },
     "execution_count": 283,
     "metadata": {},
     "output_type": "execute_result"
    }
   ],
   "source": [
    "Y.shape"
   ]
  },
  {
   "cell_type": "code",
   "execution_count": 284,
   "metadata": {},
   "outputs": [],
   "source": [
    "X = np.column_stack([X, X1.tolist()])"
   ]
  },
  {
   "cell_type": "code",
   "execution_count": 285,
   "metadata": {},
   "outputs": [
    {
     "data": {
      "text/plain": [
       "(200328, 8)"
      ]
     },
     "execution_count": 285,
     "metadata": {},
     "output_type": "execute_result"
    }
   ],
   "source": [
    "X.shape"
   ]
  },
  {
   "cell_type": "code",
   "execution_count": 304,
   "metadata": {},
   "outputs": [
    {
     "data": {
      "text/plain": [
       "['Ws_avg',\n",
       " 'Wa_c_avg',\n",
       " 'Ot_avg',\n",
       " 'cos_hr',\n",
       " 'sin_hr',\n",
       " 'cos_day',\n",
       " 'sin_day',\n",
       " 'Ws_avg_lag']"
      ]
     },
     "execution_count": 304,
     "metadata": {},
     "output_type": "execute_result"
    }
   ],
   "source": [
    "labels = ['Ws_avg', 'Wa_c_avg', 'Ot_avg', 'cos_hr', 'sin_hr', 'cos_day', 'sin_day', 'Ws_avg_lag']; labels"
   ]
  },
  {
   "cell_type": "code",
   "execution_count": 287,
   "metadata": {},
   "outputs": [],
   "source": [
    "#X_train, X_test, y_train, y_test = train_test_split(X, Y, test_size=0.25, random_state=42)\n",
    "X_train = X[:150000]\n",
    "y_train = Y[:150000]\n",
    "X_test = X[150000:]\n",
    "y_test = Y[150000:]"
   ]
  },
  {
   "cell_type": "markdown",
   "metadata": {},
   "source": [
    "#### Transform the data\n",
    "We centre the data around a mean of zero and variance of one."
   ]
  },
  {
   "cell_type": "code",
   "execution_count": 288,
   "metadata": {},
   "outputs": [],
   "source": [
    "scaler = StandardScaler()\n",
    "scaler.fit(X_train)\n",
    "X_train = scaler.transform(X_train)\n",
    "X_test = scaler.transform(X_test)"
   ]
  },
  {
   "cell_type": "markdown",
   "metadata": {},
   "source": [
    "We try different number of estimators by recursively training the model with an increasing number of trees used in the learning and plotting the performance of the model based on coefficient of determination R^2 of the prediction."
   ]
  },
  {
   "cell_type": "code",
   "execution_count": 289,
   "metadata": {},
   "outputs": [
    {
     "data": {
      "text/plain": [
       "[<matplotlib.lines.Line2D at 0x230e14a5978>]"
      ]
     },
     "execution_count": 289,
     "metadata": {},
     "output_type": "execute_result"
    },
    {
     "data": {
      "image/png": "[encoded data removed]",
      "text/plain": [
       "<matplotlib.figure.Figure at 0x230e14a5080>"
      ]
     },
     "metadata": {},
     "output_type": "display_data"
    }
   ],
   "source": [
    "# Try different numbers of n_estimators or trees - this will take a minute or so\n",
    "estimators = np.arange(1, 33, 10)\n",
    "scores = []\n",
    "for n in estimators:\n",
    "    model.set_params(n_estimators=n)\n",
    "    model.fit(X_train, y_train)\n",
    "    scores.append(model.score(X_test, y_test))\n",
    "plt.title(\"Effect of n_estimators\")\n",
    "plt.xlabel(\"n_estimator\")\n",
    "plt.ylabel(\"score\")\n",
    "plt.plot(estimators, scores)"
   ]
  },
  {
   "cell_type": "markdown",
   "metadata": {},
   "source": [
    "We predict the power output on our test data based on the learned model"
   ]
  },
  {
   "cell_type": "code",
   "execution_count": 290,
   "metadata": {},
   "outputs": [],
   "source": [
    "y_predicted = model.predict(X_test)"
   ]
  },
  {
   "cell_type": "markdown",
   "metadata": {},
   "source": [
    "#### Feature Importance\n",
    "We look at which features are the most important for our dataset"
   ]
  },
  {
   "cell_type": "code",
   "execution_count": 305,
   "metadata": {},
   "outputs": [
    {
     "data": {
      "text/html": [
       "<div>\n",
       "<style>\n",
       "    .dataframe thead tr:only-child th {\n",
       "        text-align: right;\n",
       "    }\n",
       "\n",
       "    .dataframe thead th {\n",
       "        text-align: left;\n",
       "    }\n",
       "\n",
       "    .dataframe tbody tr th {\n",
       "        vertical-align: top;\n",
       "    }\n",
       "</style>\n",
       "<table border=\"1\" class=\"dataframe\">\n",
       "  <thead>\n",
       "    <tr style=\"text-align: right;\">\n",
       "      <th></th>\n",
       "      <th>feature</th>\n",
       "      <th>importance</th>\n",
       "    </tr>\n",
       "  </thead>\n",
       "  <tbody>\n",
       "    <tr>\n",
       "      <th>0</th>\n",
       "      <td>Ws_avg</td>\n",
       "      <td>0.953740</td>\n",
       "    </tr>\n",
       "    <tr>\n",
       "      <th>5</th>\n",
       "      <td>cos_day</td>\n",
       "      <td>0.014581</td>\n",
       "    </tr>\n",
       "    <tr>\n",
       "      <th>2</th>\n",
       "      <td>Ot_avg</td>\n",
       "      <td>0.008632</td>\n",
       "    </tr>\n",
       "    <tr>\n",
       "      <th>6</th>\n",
       "      <td>sin_day</td>\n",
       "      <td>0.008577</td>\n",
       "    </tr>\n",
       "    <tr>\n",
       "      <th>1</th>\n",
       "      <td>Wa_c_avg</td>\n",
       "      <td>0.007412</td>\n",
       "    </tr>\n",
       "    <tr>\n",
       "      <th>7</th>\n",
       "      <td>Ws_avg_lag</td>\n",
       "      <td>0.003193</td>\n",
       "    </tr>\n",
       "    <tr>\n",
       "      <th>3</th>\n",
       "      <td>cos_hr</td>\n",
       "      <td>0.002028</td>\n",
       "    </tr>\n",
       "    <tr>\n",
       "      <th>4</th>\n",
       "      <td>sin_hr</td>\n",
       "      <td>0.001836</td>\n",
       "    </tr>\n",
       "  </tbody>\n",
       "</table>\n",
       "</div>"
      ],
      "text/plain": [
       "      feature  importance\n",
       "0      Ws_avg    0.953740\n",
       "5     cos_day    0.014581\n",
       "2      Ot_avg    0.008632\n",
       "6     sin_day    0.008577\n",
       "1    Wa_c_avg    0.007412\n",
       "7  Ws_avg_lag    0.003193\n",
       "3      cos_hr    0.002028\n",
       "4      sin_hr    0.001836"
      ]
     },
     "execution_count": 305,
     "metadata": {},
     "output_type": "execute_result"
    }
   ],
   "source": [
    "result = pd.DataFrame()\n",
    "result['feature'] = labels\n",
    "result['importance'] = model.feature_importances_\n",
    "result.sort_values(by=['importance'], ascending=False, inplace=True)\n",
    "result"
   ]
  },
  {
   "cell_type": "code",
   "execution_count": 309,
   "metadata": {},
   "outputs": [],
   "source": [
    "from sklearn.metrics import r2_score\n",
    "from sklearn.metrics import mean_squared_error"
   ]
  },
  {
   "cell_type": "code",
   "execution_count": 307,
   "metadata": {},
   "outputs": [
    {
     "data": {
      "text/plain": [
       "0.87171488320633395"
      ]
     },
     "execution_count": 307,
     "metadata": {},
     "output_type": "execute_result"
    }
   ],
   "source": [
    "score = r2_score(y_test, y_predicted)\n",
    "score"
   ]
  },
  {
   "cell_type": "markdown",
   "metadata": {},
   "source": [
    "Our model scores an accuracy score of 87% based on the coefficient of determination R^2 of the prediction.\n",
    "Let us plot the 72 hour ahead forecast based on our predictions on the test dataset for the power output of turbine 1"
   ]
  },
  {
   "cell_type": "code",
   "execution_count": 319,
   "metadata": {},
   "outputs": [
    {
     "data": {
      "text/plain": [
       "Text(0.5,1,'')"
      ]
     },
     "execution_count": 319,
     "metadata": {},
     "output_type": "execute_result"
    },
    {
     "data": {
      "image/png": "[encoded data removed]",
      "text/plain": [
       "<matplotlib.figure.Figure at 0x230d37df8d0>"
      ]
     },
     "metadata": {},
     "output_type": "display_data"
    }
   ],
   "source": [
    "plt.figure(figsize=(10,5))\n",
    "plt.plot(y_test[225:700], label='Actual Power Output')\n",
    "plt.plot(y_predicted[225:700], label='Predicted Power Output')\n",
    "plt.xlabel('No. of observations')\n",
    "plt.ylabel('Turbine 1 Power Output (kW)')\n",
    "plt.legend(loc='upper right')\n",
    "plt.title('Next 72 hours Prediction for Turbine 1')"
   ]
  },
  {
   "cell_type": "markdown",
   "metadata": {},
   "source": [
    "# Future Work and Resources\n",
    "\n",
    "The future work on this project will consider the following directions:\n",
    " - Utiliznig multiple machine learning models and comparing the performance\n",
    " - Incorporating large scale weather data using Numerical Weather prediction models\n",
    " - Adopting a probabilistic forecasting approach \n",
    " \n",
    "Resources:<br>\n",
    "[Random Forest in Python](https://towardsdatascience.com/random-forest-in-python-24d0893d51c0)<br>\n",
    "[Mauch, B., Apt, J., Carvalho, P. M., & Jaramillo, P. (2013). What day-ahead reserves are needed in electric grids with high levels of wind power?](https://www.google.com/search?q=mauch+et+all+day+ahead+reserve&rlz=1C1GCEA_enUS782US782&oq=mauch+et+all+day+ahead+reserve+&aqs=chrome..69i57j69i59.3534j0j7&sourceid=chrome&ie=UTF-8)<br>\n",
    "[Scikit-learn Documentation](http://scikit-learn.org/stable/documentation.html)<br>\n",
    "[ENGIE web api documentation](https://opendata-renewables.engie.com/api/v1/documentation)<br>\n",
    "[Wind Forecasting](https://www.iitk.ac.in/ime/anoops/for14/PPTs/Day%20-%202%20IITK/Wind%20Frorecasting-%20Balaraman.pdf)<br>\n",
    "[Wind Power Forecasting](https://lucdemortier.github.io/articles/17/WindPower)<br>"
   ]
  }
 ],
 "metadata": {
  "kernelspec": {
   "display_name": "Python 3",
   "language": "python",
   "name": "python3"
  },
  "language_info": {
   "codemirror_mode": {
    "name": "ipython",
    "version": 3
   },
   "file_extension": ".py",
   "mimetype": "text/x-python",
   "name": "python",
   "nbconvert_exporter": "python",
   "pygments_lexer": "ipython3",
   "version": "3.6.3"
  }
 },
 "nbformat": 4,
 "nbformat_minor": 2
}
